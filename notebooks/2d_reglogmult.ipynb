{
  "nbformat": 4,
  "nbformat_minor": 0,
  "metadata": {
    "colab": {
      "name": "2d_reglogmult.ipynb",
      "provenance": [],
      "include_colab_link": true
    },
    "kernelspec": {
      "name": "python3",
      "display_name": "Python 3"
    }
  },
  "cells": [
    {
      "cell_type": "markdown",
      "metadata": {
        "id": "view-in-github",
        "colab_type": "text"
      },
      "source": [
        "<a href=\"https://colab.research.google.com/github/gibranfp/CursoAprendizajeAutomatizado/blob/2023-2/notebooks/2d_reglogmult.ipynb\" target=\"_parent\"><img src=\"https://colab.research.google.com/assets/colab-badge.svg\" alt=\"Open In Colab\"/></a>"
      ]
    },
    {
      "cell_type": "markdown",
      "metadata": {
        "id": "8_Gx7tBz88QM"
      },
      "source": [
        "# Regresión logística multinomial \n",
        "En esta libreta programaremos la regresión logística multinomial entrenada a través del descenso por gradiente. Probaremos nuestra implementación en dos tareas: clasificación de subespecies de la flor iris y clasificación de documentos por tema."
      ]
    },
    {
      "cell_type": "code",
      "metadata": {
        "id": "bD1-bvCsZFCb"
      },
      "source": [
        "import scipy as sp\n",
        "import numpy as np\n",
        "import matplotlib.pyplot as plt\n",
        "\n",
        "from sklearn.datasets import load_iris, fetch_20newsgroups\n",
        "from sklearn.feature_extraction.text import CountVectorizer, TfidfVectorizer\n",
        "from sklearn.model_selection import train_test_split\n",
        "from sklearn.preprocessing import MinMaxScaler, MaxAbsScaler\n",
        "\n",
        "np.random.seed(123)"
      ],
      "execution_count": 1,
      "outputs": []
    },
    {
      "cell_type": "markdown",
      "metadata": {
        "id": "VJCIBV3Kr30b"
      },
      "source": [
        "## Programación de funciones y clases\n",
        "Definimos algunas funciones que utilizaremos para programar la regresión logística multinomial.\n",
        "\n",
        "Para entrenar la regresión logística multinomial minimizamos la función de entropia cruzada, definida de la siguiente manera:\n",
        "\n",
        "$$\n",
        "E(\\boldsymbol{\\Theta})-\\sum_{i=1}^n \\sum_{k=1}^K [y^{(i)} = k] \\log q^{(i)}_{k}\n",
        "$$\n",
        "\n",
        "donde \n",
        "$$\n",
        "  q_{k}^{(i)} = softmax(\\boldsymbol{\\Theta}^T \\mathbf{x}^{(i)})_k\n",
        "$$\n"
      ]
    },
    {
      "cell_type": "code",
      "metadata": {
        "id": "oFJmZr0KY_3f"
      },
      "source": [
        "def entropia_cruzada(q, y):\n",
        "  q[q==0] = np.nextafter(0,1)\n",
        "  q[q==1] = np.nextafter(1,0)\n",
        "  return np.sum(-np.log(q[np.nonzero(y)]))"
      ],
      "execution_count": 2,
      "outputs": []
    },
    {
      "cell_type": "markdown",
      "metadata": {
        "id": "P54IhuQjyhJT"
      },
      "source": [
        "Para $K$ clases distintas, $k \\in [1, 2, \\ldots, K]$ y \n",
        "$\\mathbf{z} = \\left[z_1, z_2, \\ldots, z_K \\right]$, la función $softmax$ está dada por\n",
        "$$\n",
        "softmax(\\mathbf{z})_k = \\frac{e^{z_k}}{\\sum_{j=1}^{K} e^{z_j}} = \\frac{e^{z_k - max(\\mathbf{z})}}{\\sum_{j=1}^{K} e^{z_j - max(\\mathbf{z})}}\n",
        "$$"
      ]
    },
    {
      "cell_type": "code",
      "metadata": {
        "id": "oLUzqFQiZHku"
      },
      "source": [
        "def softmax(z):\n",
        "  e_z = np.exp(z - np.max(z, axis = 1)[:, np.newaxis])\n",
        "  norm = np.sum(e_z, axis = 1)\n",
        "  return e_z / norm[:, np.newaxis]"
      ],
      "execution_count": 3,
      "outputs": []
    },
    {
      "cell_type": "markdown",
      "metadata": {
        "id": "_wuZavCpztQs"
      },
      "source": [
        "El gradiente de la entropia cruzada respecto a $\\boldsymbol{\\Theta}$ para la clase $k$ es\n",
        "\n",
        "$$\n",
        "\\nabla E(\\boldsymbol{\\Theta})_k  = \\sum_{i=1}^n \\left(q^{(i)}_{k} - \\left[y^{(i)} = k\\right]\\right) \\cdot \\mathbf{x}^{(i)}\n",
        "$$\n",
        "\n",
        "Si presuponemos que $\\mathbf{X}$ es la matriz de diseño que contiene un ejemplo en cada fila y codificamos las salidas con vectores fila de 1-de-K en $\\mathbf{Y}$, podemos expresar el gradiente de todas las clases de forma matricial\n",
        "$$\n",
        "\\nabla E(\\boldsymbol{\\Theta})  = \\mathbf{X}^\\top \\left(\\mathbf{Q} - \\mathbf{Y}\\right)\n",
        "$$\n",
        "\n",
        "donde $\\mathbf{Q}$ es una matriz en la que cada fila corresponde a la salida de la función $softmax$ de un ejemplo."
      ]
    },
    {
      "cell_type": "code",
      "metadata": {
        "id": "vQNk2999ZNG6"
      },
      "source": [
        "def gradiente(X, Y, Q): \n",
        "  return X.T @  (Q - Y)"
      ],
      "execution_count": 4,
      "outputs": []
    },
    {
      "cell_type": "markdown",
      "metadata": {
        "id": "DJztDTeX2kPb"
      },
      "source": [
        "Entrenaremos nuestra regresión logística multinomial usando descenso por gradiente, cuya regla de actualización estaría dada por\n",
        "\n",
        "$$\n",
        "\\boldsymbol{\\Theta}^{[t + 1]}   = \\boldsymbol{\\Theta}^{[t]} - \\alpha \\nabla E(\\boldsymbol{\\Theta}^{[t]})\n",
        "$$\n",
        "\n",
        "$\\alpha$ se conoce como tasa de aprendizaje.\n",
        "\n",
        "El algoritmo del descenso del gradiente es el siguiente:\n",
        "\n",
        "1. Inicializa parámetros aleatoriamente: \n",
        "2. Para $t = 1, 2, \\ldots, n_{\\text{iter}}$\n",
        "  $$\n",
        "  \\boldsymbol{\\Theta}^{[t + 1]}   = \\boldsymbol{\\Theta}^{[t]} - \\alpha \\nabla E(\\boldsymbol{\\Theta}^{[t]})\n",
        "  $$"
      ]
    },
    {
      "cell_type": "code",
      "metadata": {
        "id": "66Dra517kRVi"
      },
      "source": [
        "def descenso_gradiente(X, y, n_iter, tasa_ap):\n",
        "  n_ej = X.shape[0]\n",
        "  d = X.shape[1]\n",
        "  n_clases = np.unique(y).size\n",
        "  \n",
        "  # Codifica clases con vectores 1-de-K\n",
        "  Y_ohe = np.zeros((n_ej, n_clases))\n",
        "  Y_ohe[np.arange(n_ej), y] = 1\n",
        "\n",
        "  # Inicializa parámetros de forma aleatoria (\"LeCun uniform\")\n",
        "  lim = np.sqrt(1 / d)\n",
        "  parametros = np.random.uniform(-lim, lim, size=(d, n_clases))\n",
        "\n",
        "  ecc = []\n",
        "  for it in range(n_iter):\n",
        "    Q = softmax(X @ parametros)\n",
        "    parametros -= tasa_ap * gradiente(X, Y_ohe, Q)\n",
        "    ecc.append(entropia_cruzada(Q, Y_ohe))\n",
        "\n",
        "  return parametros, ecc"
      ],
      "execution_count": 5,
      "outputs": []
    },
    {
      "cell_type": "markdown",
      "metadata": {
        "id": "oyp8mGmn5F4a"
      },
      "source": [
        "Definimos una función que calcula la exactitud para evaluar los modelos de clasificación, dada como el número de aciertos entre el número total de ejemplos.\n"
      ]
    },
    {
      "cell_type": "code",
      "metadata": {
        "id": "oSIxFCxYkCjK"
      },
      "source": [
        "def exactitud(y, y_predicha):\n",
        "  return (y == y_predicha).mean()"
      ],
      "execution_count": 6,
      "outputs": []
    },
    {
      "cell_type": "markdown",
      "metadata": {
        "id": "iuib110J6IFc"
      },
      "source": [
        "Definimos nuestra clase de regresión logística multinomial."
      ]
    },
    {
      "cell_type": "code",
      "metadata": {
        "id": "xpC7z2EW9RX0"
      },
      "source": [
        "class RegLogMult:\n",
        "  def fit(self, X, y, n_iter=1000, tasa_ap=0.001):\n",
        "    self.parametros_, errores = descenso_gradiente(X, y, n_iter, tasa_ap)\n",
        "    return errores\n",
        "\n",
        "  def predict(self, X):\n",
        "    return softmax(X @ self.parametros_)\n",
        "  \n",
        "  def score(self, X, y):\n",
        "    q = self.predict(X)\n",
        "    return exactitud(y, np.argmax(q, axis=1))"
      ],
      "execution_count": 7,
      "outputs": []
    },
    {
      "cell_type": "markdown",
      "metadata": {
        "id": "O9rIbz9dr9b6"
      },
      "source": [
        "## Clasificación de subespecies de la flor Iris\n",
        "Probamos nuestra implementación en la tarea de clasificación de subespecies de la flor Iris. Usamos las funciones incluidas en _scikit-learn_ para cargar y dividir el conjunto de datos."
      ]
    },
    {
      "cell_type": "code",
      "metadata": {
        "id": "ZbCMc6vwj_IL"
      },
      "source": [
        "iris = load_iris()\n",
        "X_iris = iris['data']\n",
        "y_iris = iris['target']\n",
        "\n",
        "X_iris_ent, X_iris_val, y_iris_ent, y_iris_val = train_test_split(X_iris,\n",
        "                                                                  y_iris,\n",
        "                                                                  test_size=0.3, \n",
        "                                                                  random_state=123)"
      ],
      "execution_count": 8,
      "outputs": []
    },
    {
      "cell_type": "markdown",
      "metadata": {
        "id": "kHD9zbNQkbSt"
      },
      "source": [
        "Cuando entrenamos modelos a través del descenso por gradiente, es importante que los valores de todas las dimensiones de los vectores de ejemplo se encuentren en rangos similares. Para lograr esto, en algunas ocasiones es necesario escalar los ejemplos. "
      ]
    },
    {
      "cell_type": "code",
      "metadata": {
        "id": "E4U1TKWnwfmB"
      },
      "source": [
        "sciris = MinMaxScaler()\n",
        "X_iris_ent = sciris.fit_transform(X_iris_ent)\n",
        "X_iris_val = sciris.transform(X_iris_val)"
      ],
      "execution_count": 9,
      "outputs": []
    },
    {
      "cell_type": "markdown",
      "metadata": {
        "id": "_7I4u3bewx5r"
      },
      "source": [
        "Creamos la matriz de diseño para los conjuntos de entrenamiento y validación."
      ]
    },
    {
      "cell_type": "code",
      "metadata": {
        "id": "P13vW3hVka0F"
      },
      "source": [
        "ones_iris_ent = np.ones((X_iris_ent.shape[0], 1))\n",
        "X_iris_ent = np.column_stack((ones_iris_ent, X_iris_ent))\n",
        "\n",
        "ones_iris_val = np.ones(X_iris_val.shape[0])\n",
        "X_iris_val = np.column_stack((ones_iris_val, X_iris_val))"
      ],
      "execution_count": 10,
      "outputs": []
    },
    {
      "cell_type": "markdown",
      "metadata": {
        "id": "Kh7S0XGPw8u5"
      },
      "source": [
        "Instanciamos y entrenamos el modelo."
      ]
    },
    {
      "cell_type": "code",
      "metadata": {
        "id": "vJJD5LVWxQGb"
      },
      "source": [
        "rlm_iris = RegLogMult()\n",
        "ec_iris = rlm_iris.fit(X_iris_ent, y_iris_ent, n_iter=200, tasa_ap=0.025)"
      ],
      "execution_count": 11,
      "outputs": []
    },
    {
      "cell_type": "markdown",
      "metadata": {
        "id": "ie9BzTzg-bJ8"
      },
      "source": [
        "Graficamos el error por iteración."
      ]
    },
    {
      "cell_type": "code",
      "metadata": {
        "colab": {
          "base_uri": "https://localhost:8080/",
          "height": 279
        },
        "id": "3-SLmUNl-ehc",
        "outputId": "cc59c8dd-e494-43d2-8df6-84028395d8be"
      },
      "source": [
        "plt.plot(ec_iris)\n",
        "plt.xlabel(u'Iteración')\n",
        "plt.ylabel(u'Entropía cruzada')\n",
        "plt.show()"
      ],
      "execution_count": 12,
      "outputs": [
        {
          "output_type": "display_data",
          "data": {
            "text/plain": [
              "<Figure size 432x288 with 1 Axes>"
            ],
            "image/png": "[encoded data removed]"
          },
          "metadata": {
            "needs_background": "light"
          }
        }
      ]
    },
    {
      "cell_type": "markdown",
      "metadata": {
        "id": "mnPhz5vZxfmC"
      },
      "source": [
        "Evaluamos el modelo con el conjunto de validación."
      ]
    },
    {
      "cell_type": "code",
      "metadata": {
        "colab": {
          "base_uri": "https://localhost:8080/"
        },
        "id": "cXi7XvmlxHgZ",
        "outputId": "7ece1b15-dd51-4a4d-abd9-c5f53fe9d35e"
      },
      "source": [
        "print('Exactitud = {0}'.format(rlm_iris.score(X_iris_val, y_iris_val)))"
      ],
      "execution_count": 13,
      "outputs": [
        {
          "output_type": "stream",
          "name": "stdout",
          "text": [
            "Exactitud = 0.9555555555555556\n"
          ]
        }
      ]
    },
    {
      "cell_type": "markdown",
      "metadata": {
        "id": "LCb95CMP6vkE"
      },
      "source": [
        "Debido a que son 3 clases, una predicción para una entrada $\\mathbf{x}^{(i)}$ resulta en un vector $\\mathbf{q}^{(i)} = [q_1, q_2, q_3], \\sum_{i=1}^{3} q_i = 1$."
      ]
    },
    {
      "cell_type": "code",
      "metadata": {
        "colab": {
          "base_uri": "https://localhost:8080/",
          "height": 879
        },
        "id": "LA5P4mrHv6kU",
        "outputId": "fbd65ca1-e522-4ae0-904a-b4ea125d30e4"
      },
      "source": [
        "y_iris_pred = rlm_iris.predict(X_iris_val)\n",
        "\n",
        "fig = plt.figure(1, figsize=(15, 15))\n",
        "for i,x in enumerate(y_iris_pred[:9]):\n",
        "  plt.subplot(3, 3, i + 1)\n",
        "  colores = ['lightblue' for i in range(3)]\n",
        "  clase_pred = np.argmax(y_iris_pred[i])\n",
        "  color_pred = 'blue' if clase_pred==y_iris_val[i] else 'lightred'\n",
        "  colores[y_iris_val[i]] = color_pred\n",
        "  plt.bar(iris.target_names, y_iris_pred[i], color=colores)\n",
        "  plt.ylabel('Probabilidad')\n",
        "  plt.ylim([0,1])\n",
        "  plt.title('Clase real = ' + str(iris.target_names[y_iris_val[i]]))\n",
        "plt.show()"
      ],
      "execution_count": 14,
      "outputs": [
        {
          "output_type": "display_data",
          "data": {
            "text/plain": [
              "<Figure size 1080x1080 with 9 Axes>"
            ],
            "image/png": "[encoded data removed]"
          },
          "metadata": {
            "needs_background": "light"
          }
        }
      ]
    },
    {
      "cell_type": "markdown",
      "metadata": {
        "id": "rdfDCFd8sGzK"
      },
      "source": [
        "## Clasificación de documentos por tema\n",
        "También probaremos nuestra regresión logística multinomial en la clasificación de documentos por tema usando el conjunto de datos 20 newsgroups.\n",
        "\n",
        "Nuevamente usaremos las funciones de _scikit-learn_ para descargar y dividir el conjunto datos de 20 newsgrops."
      ]
    },
    {
      "cell_type": "code",
      "metadata": {
        "id": "6sky00iHsORw"
      },
      "source": [
        "ng_ent = fetch_20newsgroups(subset='train', \n",
        "                            shuffle=True, \n",
        "                            random_state=123)\n",
        "\n",
        "ng_val = fetch_20newsgroups(subset='test',\n",
        "                            shuffle=True, \n",
        "                            random_state=123)"
      ],
      "execution_count": 15,
      "outputs": []
    },
    {
      "cell_type": "markdown",
      "metadata": {
        "id": "3vFcZXTx7zR9"
      },
      "source": [
        "Obtenemos la representación vectorizada binaria de los documentos."
      ]
    },
    {
      "cell_type": "code",
      "metadata": {
        "id": "v1dn7NJRgAdF"
      },
      "source": [
        "vec = CountVectorizer(max_features=10000,\n",
        "                      stop_words='english', \n",
        "                      binary=True)"
      ],
      "execution_count": 16,
      "outputs": []
    },
    {
      "cell_type": "markdown",
      "metadata": {
        "id": "umx_qfcTgB4U"
      },
      "source": [
        "Esta representación es generalmente muy dispersa, por lo que `CountVectorizer` regresa una matriz tipo [CSR](https://docs.scipy.org/doc/scipy/reference/generated/scipy.sparse.csr_matrix.html ) (ver [_Sparse matrix_](https://en.wikipedia.org/wiki/Sparse_matrix))."
      ]
    },
    {
      "cell_type": "code",
      "metadata": {
        "id": "j0BP09mrg7M0"
      },
      "source": [
        "X_ng_ent = vec.fit_transform(ng_ent.data)\n",
        "X_ng_val = vec.transform(ng_val.data)"
      ],
      "execution_count": 17,
      "outputs": []
    },
    {
      "cell_type": "markdown",
      "metadata": {
        "id": "cOXuhS7ug96s"
      },
      "source": [
        "Para matrices dispersas no es conveniente realizar escalado a través de estandarización o minmax, ya que rompen su dispersidad. Sin embargo, es posible escalar los valores manteniendo la dispersidad de las matrices dividiéndolos entre el valor absoluto máximo (en _scikit-learn_ es [MaxAbsScaler](https://scikit-learn.org/stable/modules/generated/sklearn.preprocessing.MaxAbsScaler.html))."
      ]
    },
    {
      "cell_type": "code",
      "metadata": {
        "id": "kXJ9NQpICmFc"
      },
      "source": [
        "scng = MaxAbsScaler()\n",
        "X_ng_ent = scng.fit_transform(X_ng_ent)\n",
        "X_ng_val = scng.transform(X_ng_val)"
      ],
      "execution_count": 18,
      "outputs": []
    },
    {
      "cell_type": "markdown",
      "metadata": {
        "id": "gWipKbU1iUxS"
      },
      "source": [
        "Con los valores escalados creamos las matrices de diseño"
      ]
    },
    {
      "cell_type": "code",
      "metadata": {
        "id": "tfuQSRrPin1t"
      },
      "source": [
        "ones_ng_ent = np.ones(X_ng_ent.shape[0])\n",
        "X_ng_ent = sp.sparse.hstack((ones_ng_ent[:,None], X_ng_ent))\n",
        "\n",
        "ones_ng_val = np.ones(X_ng_val.shape[0])\n",
        "X_ng_val = sp.sparse.hstack((ones_ng_val[:,None], X_ng_val))"
      ],
      "execution_count": 19,
      "outputs": []
    },
    {
      "cell_type": "markdown",
      "metadata": {
        "id": "MbT8FS22iuOU"
      },
      "source": [
        "Obtenemos los vectores de salidas (clases)"
      ]
    },
    {
      "cell_type": "code",
      "metadata": {
        "id": "Bbogv1oaizuM"
      },
      "source": [
        "y_ng_ent = ng_ent.target\n",
        "y_ng_val = ng_val.target"
      ],
      "execution_count": 20,
      "outputs": []
    },
    {
      "cell_type": "markdown",
      "metadata": {
        "id": "2xaVJ1Bl73rU"
      },
      "source": [
        "Entrenamos nuestro modelo. Nota que la implementación de la regresión logística multinomial y del descenso por gradiente no cambia si tenemos matrices dispersas en los ejemplos."
      ]
    },
    {
      "cell_type": "code",
      "metadata": {
        "id": "teHbEEFFscNa"
      },
      "source": [
        "rlm_ng = RegLogMult()\n",
        "ec_ng = rlm_ng.fit(X_ng_ent, y_ng_ent, n_iter=100, tasa_ap=0.0005)"
      ],
      "execution_count": 21,
      "outputs": []
    },
    {
      "cell_type": "markdown",
      "metadata": {
        "id": "MTfwyylQB-fs"
      },
      "source": [
        "Graficamos el error por iteración"
      ]
    },
    {
      "cell_type": "code",
      "metadata": {
        "id": "LjqgBaWPB_PM",
        "colab": {
          "base_uri": "https://localhost:8080/",
          "height": 281
        },
        "outputId": "92eedaae-c486-48de-fe8e-0dbaabd6b4e8"
      },
      "source": [
        "plt.plot(ec_ng)\n",
        "plt.xlabel(u'Iteración')\n",
        "plt.ylabel(u'Entropía cruzada')\n",
        "plt.show()"
      ],
      "execution_count": 22,
      "outputs": [
        {
          "output_type": "display_data",
          "data": {
            "text/plain": [
              "<Figure size 432x288 with 1 Axes>"
            ],
            "image/png": "[encoded data removed]"
          },
          "metadata": {
            "needs_background": "light"
          }
        }
      ]
    },
    {
      "cell_type": "markdown",
      "metadata": {
        "id": "jrIsyqR7lbjN"
      },
      "source": [
        "Finalmente evaluamos el modelo entrenado en el conjunto de validación"
      ]
    },
    {
      "cell_type": "code",
      "metadata": {
        "id": "xuEekuxllfx7",
        "colab": {
          "base_uri": "https://localhost:8080/"
        },
        "outputId": "7aa1d3c5-dd49-4749-885f-d9b47e06c791"
      },
      "source": [
        "print('Exactitud = {0}'.format(rlm_ng.score(X_ng_val, y_ng_val)))"
      ],
      "execution_count": 23,
      "outputs": [
        {
          "output_type": "stream",
          "name": "stdout",
          "text": [
            "Exactitud = 0.7947424322889007\n"
          ]
        }
      ]
    }
  ]
}