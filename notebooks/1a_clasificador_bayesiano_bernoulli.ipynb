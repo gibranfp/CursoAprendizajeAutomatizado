{
  "nbformat": 4,
  "nbformat_minor": 0,
  "metadata": {
    "kernelspec": {
      "display_name": "Python 3",
      "language": "python",
      "name": "python3"
    },
    "language_info": {
      "codemirror_mode": {
        "name": "ipython",
        "version": 3
      },
      "file_extension": ".py",
      "mimetype": "text/x-python",
      "name": "python",
      "nbconvert_exporter": "python",
      "pygments_lexer": "ipython3",
      "version": "3.8.5"
    },
    "colab": {
      "provenance": [],
      "include_colab_link": true
    }
  },
  "cells": [
    {
      "cell_type": "markdown",
      "metadata": {
        "id": "view-in-github",
        "colab_type": "text"
      },
      "source": [
        "<a href=\"https://colab.research.google.com/github/gibranfp/CursoAprendizajeAutomatizado/blob/2023-2/notebooks/1a_clasificador_bayesiano_bernoulli.ipynb\" target=\"_parent\"><img src=\"https://colab.research.google.com/assets/colab-badge.svg\" alt=\"Open In Colab\"/></a>"
      ]
    },
    {
      "cell_type": "markdown",
      "metadata": {
        "id": "BUT7nnAUzJzT"
      },
      "source": [
        "# Clasificador bayesiano ingenuo de Bernoulli\n",
        "En esta libreta programaremos un clasificador bayesiano ingenuo en el cual se presupone que la distribución de los atributos dada la clase es una Bernoulli y hay dos posibles clases. "
      ]
    },
    {
      "cell_type": "code",
      "metadata": {
        "id": "9WTkCgB7zJzW"
      },
      "source": [
        "import numpy as np\n",
        "import pandas as pd\n",
        "import matplotlib.pyplot as plt\n",
        "\n",
        "from sklearn.naive_bayes import BernoulliNB as SKBNB\n",
        "from sklearn.datasets import fetch_20newsgroups\n",
        "from sklearn.feature_extraction.text import CountVectorizer"
      ],
      "execution_count": 1,
      "outputs": []
    },
    {
      "cell_type": "markdown",
      "metadata": {
        "id": "f-kw792rzJzX"
      },
      "source": [
        "## Carga de datos"
      ]
    },
    {
      "cell_type": "markdown",
      "metadata": {
        "id": "GsggTrNEzJzX"
      },
      "source": [
        "El conjunto de entrenamiento consiste de 11 documentos que pertenecen a las clases de deportes (0) o informática (1). Cada documento es un vector de 8 dimensiones donde cada dimensión representa la frecuencia de las palabras en nuestro vocabulario de interés:\n",
        " \n",
        "$$\n",
        "V = \\begin{vmatrix}\n",
        "p_{1} = \\textrm{gol}\\\\\n",
        "p_{2} = \\textrm{maestro}\\\\\n",
        "p_{3} = \\textrm{velocidad}\\\\\n",
        "p_{4} = \\textrm{defensa}\\\\\n",
        "p_{5} = \\textrm{rendimiento}\\\\\n",
        "p_{6} = \\textrm{campo}\\\\\n",
        "p_{7} = \\textrm{movimiento}\\\\\n",
        "p_{8} = \\textrm{ataque}\n",
        "\\end{vmatrix}  \n",
        "$$\n",
        " \n",
        " Lectura con Pandas:"
      ]
    },
    {
      "cell_type": "code",
      "metadata": {
        "id": "yOEwTCMOzJzY",
        "colab": {
          "base_uri": "https://localhost:8080/",
          "height": 394
        },
        "outputId": "029ed34f-45b1-491a-cf42-c3a178079b21"
      },
      "source": [
        "df = pd.read_csv('https://raw.githubusercontent.com/gibranfp/CursoAprendizajeAutomatizado/master/data/dep_inf.csv')\n",
        "df"
      ],
      "execution_count": 2,
      "outputs": [
        {
          "output_type": "execute_result",
          "data": {
            "text/plain": [
              "    p1  p2  p3  p4  p5  p6  p7  p8  c \n",
              "0    1   0   1   0   1   1   0   1   0\n",
              "1    1   0   1   0   0   1   0   0   0\n",
              "2    0   0   1   0   1   1   0   1   0\n",
              "3    0   0   0   1   1   0   1   1   0\n",
              "4    1   1   0   0   0   1   0   1   0\n",
              "5    0   0   1   1   1   1   0   0   0\n",
              "6    0   1   0   1   0   0   1   0   1\n",
              "7    1   0   0   1   1   0   1   1   1\n",
              "8    0   1   0   1   0   1   1   0   1\n",
              "9    0   0   0   1   0   0   1   1   1\n",
              "10   0   1   1   1   0   0   1   1   1"
            ],
            "text/html": [
              "\n",
              "  <div id=\"df-34a6f58e-5cf9-4591-9774-843e248a1fc6\">\n",
              "    <div class=\"colab-df-container\">\n",
              "      <div>\n",
              "<style scoped>\n",
              "    .dataframe tbody tr th:only-of-type {\n",
              "        vertical-align: middle;\n",
              "    }\n",
              "\n",
              "    .dataframe tbody tr th {\n",
              "        vertical-align: top;\n",
              "    }\n",
              "\n",
              "    .dataframe thead th {\n",
              "        text-align: right;\n",
              "    }\n",
              "</style>\n",
              "<table border=\"1\" class=\"dataframe\">\n",
              "  <thead>\n",
              "    <tr style=\"text-align: right;\">\n",
              "      <th></th>\n",
              "      <th>p1</th>\n",
              "      <th>p2</th>\n",
              "      <th>p3</th>\n",
              "      <th>p4</th>\n",
              "      <th>p5</th>\n",
              "      <th>p6</th>\n",
              "      <th>p7</th>\n",
              "      <th>p8</th>\n",
              "      <th>c</th>\n",
              "    </tr>\n",
              "  </thead>\n",
              "  <tbody>\n",
              "    <tr>\n",
              "      <th>0</th>\n",
              "      <td>1</td>\n",
              "      <td>0</td>\n",
              "      <td>1</td>\n",
              "      <td>0</td>\n",
              "      <td>1</td>\n",
              "      <td>1</td>\n",
              "      <td>0</td>\n",
              "      <td>1</td>\n",
              "      <td>0</td>\n",
              "    </tr>\n",
              "    <tr>\n",
              "      <th>1</th>\n",
              "      <td>1</td>\n",
              "      <td>0</td>\n",
              "      <td>1</td>\n",
              "      <td>0</td>\n",
              "      <td>0</td>\n",
              "      <td>1</td>\n",
              "      <td>0</td>\n",
              "      <td>0</td>\n",
              "      <td>0</td>\n",
              "    </tr>\n",
              "    <tr>\n",
              "      <th>2</th>\n",
              "      <td>0</td>\n",
              "      <td>0</td>\n",
              "      <td>1</td>\n",
              "      <td>0</td>\n",
              "      <td>1</td>\n",
              "      <td>1</td>\n",
              "      <td>0</td>\n",
              "      <td>1</td>\n",
              "      <td>0</td>\n",
              "    </tr>\n",
              "    <tr>\n",
              "      <th>3</th>\n",
              "      <td>0</td>\n",
              "      <td>0</td>\n",
              "      <td>0</td>\n",
              "      <td>1</td>\n",
              "      <td>1</td>\n",
              "      <td>0</td>\n",
              "      <td>1</td>\n",
              "      <td>1</td>\n",
              "      <td>0</td>\n",
              "    </tr>\n",
              "    <tr>\n",
              "      <th>4</th>\n",
              "      <td>1</td>\n",
              "      <td>1</td>\n",
              "      <td>0</td>\n",
              "      <td>0</td>\n",
              "      <td>0</td>\n",
              "      <td>1</td>\n",
              "      <td>0</td>\n",
              "      <td>1</td>\n",
              "      <td>0</td>\n",
              "    </tr>\n",
              "    <tr>\n",
              "      <th>5</th>\n",
              "      <td>0</td>\n",
              "      <td>0</td>\n",
              "      <td>1</td>\n",
              "      <td>1</td>\n",
              "      <td>1</td>\n",
              "      <td>1</td>\n",
              "      <td>0</td>\n",
              "      <td>0</td>\n",
              "      <td>0</td>\n",
              "    </tr>\n",
              "    <tr>\n",
              "      <th>6</th>\n",
              "      <td>0</td>\n",
              "      <td>1</td>\n",
              "      <td>0</td>\n",
              "      <td>1</td>\n",
              "      <td>0</td>\n",
              "      <td>0</td>\n",
              "      <td>1</td>\n",
              "      <td>0</td>\n",
              "      <td>1</td>\n",
              "    </tr>\n",
              "    <tr>\n",
              "      <th>7</th>\n",
              "      <td>1</td>\n",
              "      <td>0</td>\n",
              "      <td>0</td>\n",
              "      <td>1</td>\n",
              "      <td>1</td>\n",
              "      <td>0</td>\n",
              "      <td>1</td>\n",
              "      <td>1</td>\n",
              "      <td>1</td>\n",
              "    </tr>\n",
              "    <tr>\n",
              "      <th>8</th>\n",
              "      <td>0</td>\n",
              "      <td>1</td>\n",
              "      <td>0</td>\n",
              "      <td>1</td>\n",
              "      <td>0</td>\n",
              "      <td>1</td>\n",
              "      <td>1</td>\n",
              "      <td>0</td>\n",
              "      <td>1</td>\n",
              "    </tr>\n",
              "    <tr>\n",
              "      <th>9</th>\n",
              "      <td>0</td>\n",
              "      <td>0</td>\n",
              "      <td>0</td>\n",
              "      <td>1</td>\n",
              "      <td>0</td>\n",
              "      <td>0</td>\n",
              "      <td>1</td>\n",
              "      <td>1</td>\n",
              "      <td>1</td>\n",
              "    </tr>\n",
              "    <tr>\n",
              "      <th>10</th>\n",
              "      <td>0</td>\n",
              "      <td>1</td>\n",
              "      <td>1</td>\n",
              "      <td>1</td>\n",
              "      <td>0</td>\n",
              "      <td>0</td>\n",
              "      <td>1</td>\n",
              "      <td>1</td>\n",
              "      <td>1</td>\n",
              "    </tr>\n",
              "  </tbody>\n",
              "</table>\n",
              "</div>\n",
              "      <button class=\"colab-df-convert\" onclick=\"convertToInteractive('df-34a6f58e-5cf9-4591-9774-843e248a1fc6')\"\n",
              "              title=\"Convert this dataframe to an interactive table.\"\n",
              "              style=\"display:none;\">\n",
              "        \n",
              "  <svg xmlns=\"http://www.w3.org/2000/svg\" height=\"24px\"viewBox=\"0 0 24 24\"\n",
              "       width=\"24px\">\n",
              "    <path d=\"M0 0h24v24H0V0z\" fill=\"none\"/>\n",
              "    <path d=\"M18.56 5.44l.94 2.06.94-2.06 2.06-.94-2.06-.94-.94-2.06-.94 2.06-2.06.94zm-11 1L8.5 8.5l.94-2.06 2.06-.94-2.06-.94L8.5 2.5l-.94 2.06-2.06.94zm10 10l.94 2.06.94-2.06 2.06-.94-2.06-.94-.94-2.06-.94 2.06-2.06.94z\"/><path d=\"M17.41 7.96l-1.37-1.37c-.4-.4-.92-.59-1.43-.59-.52 0-1.04.2-1.43.59L10.3 9.45l-7.72 7.72c-.78.78-.78 2.05 0 2.83L4 21.41c.39.39.9.59 1.41.59.51 0 1.02-.2 1.41-.59l7.78-7.78 2.81-2.81c.8-.78.8-2.07 0-2.86zM5.41 20L4 18.59l7.72-7.72 1.47 1.35L5.41 20z\"/>\n",
              "  </svg>\n",
              "      </button>\n",
              "      \n",
              "  <style>\n",
              "    .colab-df-container {\n",
              "      display:flex;\n",
              "      flex-wrap:wrap;\n",
              "      gap: 12px;\n",
              "    }\n",
              "\n",
              "    .colab-df-convert {\n",
              "      background-color: #E8F0FE;\n",
              "      border: none;\n",
              "      border-radius: 50%;\n",
              "      cursor: pointer;\n",
              "      display: none;\n",
              "      fill: #1967D2;\n",
              "      height: 32px;\n",
              "      padding: 0 0 0 0;\n",
              "      width: 32px;\n",
              "    }\n",
              "\n",
              "    .colab-df-convert:hover {\n",
              "      background-color: #E2EBFA;\n",
              "      box-shadow: 0px 1px 2px rgba(60, 64, 67, 0.3), 0px 1px 3px 1px rgba(60, 64, 67, 0.15);\n",
              "      fill: #174EA6;\n",
              "    }\n",
              "\n",
              "    [theme=dark] .colab-df-convert {\n",
              "      background-color: #3B4455;\n",
              "      fill: #D2E3FC;\n",
              "    }\n",
              "\n",
              "    [theme=dark] .colab-df-convert:hover {\n",
              "      background-color: #434B5C;\n",
              "      box-shadow: 0px 1px 3px 1px rgba(0, 0, 0, 0.15);\n",
              "      filter: drop-shadow(0px 1px 2px rgba(0, 0, 0, 0.3));\n",
              "      fill: #FFFFFF;\n",
              "    }\n",
              "  </style>\n",
              "\n",
              "      <script>\n",
              "        const buttonEl =\n",
              "          document.querySelector('#df-34a6f58e-5cf9-4591-9774-843e248a1fc6 button.colab-df-convert');\n",
              "        buttonEl.style.display =\n",
              "          google.colab.kernel.accessAllowed ? 'block' : 'none';\n",
              "\n",
              "        async function convertToInteractive(key) {\n",
              "          const element = document.querySelector('#df-34a6f58e-5cf9-4591-9774-843e248a1fc6');\n",
              "          const dataTable =\n",
              "            await google.colab.kernel.invokeFunction('convertToInteractive',\n",
              "                                                     [key], {});\n",
              "          if (!dataTable) return;\n",
              "\n",
              "          const docLinkHtml = 'Like what you see? Visit the ' +\n",
              "            '<a target=\"_blank\" href=https://colab.research.google.com/notebooks/data_table.ipynb>data table notebook</a>'\n",
              "            + ' to learn more about interactive tables.';\n",
              "          element.innerHTML = '';\n",
              "          dataTable['output_type'] = 'display_data';\n",
              "          await google.colab.output.renderOutput(dataTable, element);\n",
              "          const docLink = document.createElement('div');\n",
              "          docLink.innerHTML = docLinkHtml;\n",
              "          element.appendChild(docLink);\n",
              "        }\n",
              "      </script>\n",
              "    </div>\n",
              "  </div>\n",
              "  "
            ]
          },
          "metadata": {},
          "execution_count": 2
        }
      ]
    },
    {
      "cell_type": "markdown",
      "metadata": {
        "id": "g7JU_Dl8zJzZ"
      },
      "source": [
        "Conversion a numpy:"
      ]
    },
    {
      "cell_type": "code",
      "metadata": {
        "id": "x65XXG8-zJzZ"
      },
      "source": [
        "data = df.to_numpy()\n",
        "\n",
        "X_ent = data[:, :-1]\n",
        "y_ent = data[:, -1]\n",
        "\n",
        "X_nuevos = np.array([[0, 0, 0 , 1, 1, 1, 1, 1], [0, 1, 0, 1, 1, 0, 0, 1]])"
      ],
      "execution_count": 3,
      "outputs": []
    },
    {
      "cell_type": "markdown",
      "metadata": {
        "id": "nSHiyiS8zJzb"
      },
      "source": [
        "## Clasificador bayesiano ingenuo para distribución de Bernoulli\n",
        "Definimos una función para obtener la probabilidad de 0 o 1 dada una distribución de Bernoulli con parámetro $q$."
      ]
    },
    {
      "cell_type": "code",
      "metadata": {
        "id": "hFjc0A4w4y8Z"
      },
      "source": [
        "def bernoulli(x, q):\n",
        "  \"\"\"\n",
        "  Distribución de bernoulli\n",
        "  \"\"\"\n",
        "  return q**x * (1.0 - q)**(1.0 - x)"
      ],
      "execution_count": 4,
      "outputs": []
    },
    {
      "cell_type": "markdown",
      "metadata": {
        "id": "-NjqbI7g40px"
      },
      "source": [
        "Definimos una clase con el clasificador bayesiano ingenuo para atributos binarios y estimación de parámetros por máxima verosimilitud."
      ]
    },
    {
      "cell_type": "code",
      "metadata": {
        "colab": {
          "base_uri": "https://localhost:8080/"
        },
        "id": "NhBWGadkeCFJ",
        "outputId": "91bdeca5-83d4-4e7d-950d-506cda37d0b8"
      },
      "source": [
        "bernoulli(np.array([[0, 1, 1], [1,0,0]]), np.array([0.2, 0.3, 0.4]))"
      ],
      "execution_count": 5,
      "outputs": [
        {
          "output_type": "execute_result",
          "data": {
            "text/plain": [
              "array([[0.8, 0.3, 0.4],\n",
              "       [0.2, 0.7, 0.6]])"
            ]
          },
          "metadata": {},
          "execution_count": 5
        }
      ]
    },
    {
      "cell_type": "code",
      "metadata": {
        "colab": {
          "base_uri": "https://localhost:8080/"
        },
        "id": "l4GWsvvWzSwq",
        "outputId": "42fb4e3b-f739-4ea2-fb38-470aeabe5c40"
      },
      "source": [
        "class BernoulliNB:\n",
        "  def fit(self, X, y):\n",
        "    \"\"\"\n",
        "    Estima parámetros por máxima verosimilitud\n",
        "    \"\"\"\n",
        "    self.clases = np.unique(y)\n",
        "    self.n_clases = self.clases.size\n",
        "    self.n_atr = X.shape[-1]\n",
        "    n = X.shape[0]\n",
        "\n",
        "    self.qa = np.zeros((self.n_clases, self.n_atr))\n",
        "    self.qc = np.zeros((self.n_clases))\n",
        "    for i,c in enumerate(self.clases):\n",
        "      Xc = X[np.where(y == c)]\n",
        "      nc = Xc.shape[0]\n",
        "\n",
        "      cuentas = np.count_nonzero(Xc, axis = 0)\n",
        "      self.qa[i, :] =  cuentas / nc\n",
        "      self.qc[i] = nc / n\n",
        "      \n",
        "  def predict_proba(self, X):\n",
        "    \"\"\"\n",
        "    Calcula a posteriori (proporcional) de un conjunto de datos\n",
        "    \"\"\"\n",
        "    prop = np.zeros((X.shape[0], self.n_clases))\n",
        "    for i in range(self.n_clases):\n",
        "      prop[:, i] = np.prod(bernoulli(X, self.qa[i, :]), axis=1) * self.qc[i]\n",
        "    \n",
        "    return prop\n",
        "\n",
        "  def predict(self, X):\n",
        "    \"\"\"\n",
        "    Predice clases de conjunto de datos\n",
        "    \"\"\"\n",
        "    return np.argmax(self.predict_proba(X), axis=1)\n",
        "\n",
        "bnb = BernoulliNB()\n",
        "bnb.fit(X_ent, y_ent)\n",
        "\n",
        "y_bnb = bnb.predict(X_nuevos)\n",
        "p_bnb = bnb.predict_proba(X_nuevos)\n",
        "\n",
        "print(y_bnb)\n",
        "print(p_bnb)"
      ],
      "execution_count": 6,
      "outputs": [
        {
          "output_type": "stream",
          "name": "stdout",
          "text": [
            "[1 0]\n",
            "[[0.0015588  0.00279273]\n",
            " [0.00031176 0.        ]]\n"
          ]
        }
      ]
    },
    {
      "cell_type": "markdown",
      "metadata": {
        "id": "k8NffFZQZUeb"
      },
      "source": [
        "El método `predict_proba` calcula la proporcional de la probabilidad a posteriori\n",
        "\n",
        "$$\n",
        "P(\\mathbf{x} \\vert y)\\cdot P(y) \\propto P(y \\vert \\mathbf{x})\n",
        "$$\n",
        "\n",
        "Para obtener la probabilidad a posteriori es necesario dividir este valor entre \n",
        "$$\n",
        "P(\\mathbf{x}) = \\sum_c P(\\mathbf{x}, y = c) = \\sum_c P(\\mathbf{x} \\vert y = c) P(y = c)\n",
        "$$ "
      ]
    },
    {
      "cell_type": "code",
      "metadata": {
        "colab": {
          "base_uri": "https://localhost:8080/"
        },
        "id": "TALAdkWrh4gf",
        "outputId": "8072f87e-b564-4f28-d789-76a48d599c37"
      },
      "source": [
        "proba_bnb = (p_bnb / p_bnb.sum(axis=0))\n",
        "print(f'Probabilidad a posteriori = {proba_bnb}')"
      ],
      "execution_count": 7,
      "outputs": [
        {
          "output_type": "stream",
          "name": "stdout",
          "text": [
            "Probabilidad a posteriori = [[0.83333333 1.        ]\n",
            " [0.16666667 0.        ]]\n"
          ]
        }
      ]
    },
    {
      "cell_type": "markdown",
      "metadata": {
        "id": "sviQpYB6UC-Y"
      },
      "source": [
        "Cuando el número de atributos es muy grande, es conveniente usar escala logarítmica para calcular la proporcional de la probabilidad de cada clase dado un nuevo dato (método `predict_proba`)."
      ]
    },
    {
      "cell_type": "code",
      "metadata": {
        "id": "ckBmdQlnPzIr",
        "colab": {
          "base_uri": "https://localhost:8080/"
        },
        "outputId": "10b54fe8-03a3-494e-df24-054db36baecb"
      },
      "source": [
        "class BernoulliNBLog:\n",
        "  def fit(self, X, y):\n",
        "    \"\"\"\n",
        "    Estima parámetros por máxima verosimilitud\n",
        "    \"\"\"\n",
        "    self.clases = np.unique(y)\n",
        "    self.n_clases = self.clases.size\n",
        "    self.n_atr = X.shape[-1]\n",
        "    n = X.shape[0]\n",
        "\n",
        "    self.qa = np.zeros((self.n_clases, self.n_atr))\n",
        "    self.qc = np.zeros((self.n_clases))\n",
        "    for i,c in enumerate(self.clases):\n",
        "      Xc = X[np.where(y == c)]\n",
        "      nc = Xc.shape[0]\n",
        "\n",
        "      cuentas = np.count_nonzero(Xc, axis = 0)\n",
        "      self.qa[i, :] = cuentas / nc\n",
        "      self.qc[i] = nc / n\n",
        "  \n",
        "    # Para evitar logarítmos de zero en cálculo\n",
        "    # de a posteriori\n",
        "    self.qa[self.qa == 0] = np.nextafter(0, 1)\n",
        "    self.qa[self.qa == 1] = np.nextafter(1, 0)\n",
        "    \n",
        "  def predict_proba(self, X):\n",
        "    \"\"\"\n",
        "    Calcula a posteriori (proporcional) de un conjunto de datos\n",
        "    \"\"\"\n",
        "    prop = np.zeros((X.shape[0], self.n_clases))\n",
        "    for i in range(self.n_clases):\n",
        "      a0log = (1 - X) @ np.log(1 - self.qa[i, :])\n",
        "      a1log = X @ np.log(self.qa[i, :])\n",
        "      prop[:, i] = a0log + a1log + np.log(self.qc[i])\n",
        "    \n",
        "    return prop\n",
        "\n",
        "  def predict(self, X):\n",
        "    \"\"\"\n",
        "    Predice clase de conjunto de datos\n",
        "    \"\"\"\n",
        "    return np.argmax(self.predict_proba(X), axis=1)\n",
        "\n",
        "bnbl = BernoulliNBLog()\n",
        "bnbl.fit(X_ent, y_ent)\n",
        "\n",
        "y_bnbl = bnbl.predict(X_nuevos)\n",
        "p_bnbl = bnbl.predict_proba(X_nuevos)\n",
        "\n",
        "print(y_bnb)\n",
        "print(p_bnbl) # Proporcional de probabilidades logarítmicas\n",
        "print(np.exp(p_bnbl)) # Proporcional de probabilidades\n",
        "print(np.exp(p_bnbl) / np.exp(p_bnbl).sum(axis=0)) # Probabilidades"
      ],
      "execution_count": 8,
      "outputs": [
        {
          "output_type": "stream",
          "name": "stdout",
          "text": [
            "[1 0]\n",
            "[[ -6.46384036  -5.88073664]\n",
            " [ -8.07327827 -40.82577774]]\n",
            "[[1.55879786e-03 2.79272727e-03]\n",
            " [3.11759571e-04 1.86033007e-18]]\n",
            "[[8.33333333e-01 1.00000000e+00]\n",
            " [1.66666667e-01 6.66133815e-16]]\n"
          ]
        }
      ]
    },
    {
      "cell_type": "markdown",
      "metadata": {
        "id": "hoeKbKknUTaZ"
      },
      "source": [
        "Nota que no es necesario modificar la estimación de parámetros (método `fit`).\n",
        "\n",
        "Para estimar parámetros por máximo a posteriori, solo se necesita cambiar el método `fit` de la siguiente manera."
      ]
    },
    {
      "cell_type": "code",
      "metadata": {
        "colab": {
          "base_uri": "https://localhost:8080/"
        },
        "id": "cYFprucnNf8o",
        "outputId": "057f8593-03d4-4c1b-ee1c-71b55ec70bdf"
      },
      "source": [
        "class BernoulliNBLogMAP:\n",
        "  def fit(self, X, y, alfa=2):\n",
        "    \"\"\"\n",
        "    Estima parámetros por máximo a posteriori\n",
        "    \"\"\"\n",
        "    self.clases = np.unique(y)\n",
        "    self.n_clases = self.clases.size\n",
        "    self.n_atr = X.shape[-1]\n",
        "    n = X.shape[0]\n",
        "\n",
        "    self.qa = np.zeros((self.n_clases, self.n_atr))\n",
        "    self.qc = np.zeros((self.n_clases))\n",
        "    for i,c in enumerate(self.clases):\n",
        "      Xc = X[np.where(y == c)]\n",
        "      nc = Xc.shape[0]\n",
        "      \n",
        "      # Asignamos misma alfa para todas las categorías\n",
        "      self.qc[i] = (nc + alfa - 1) / (n + alfa * self.n_clases - self.n_clases) \n",
        "      cuentas = np.count_nonzero(Xc, axis = 0)\n",
        "      self.qa[i, :] = (cuentas + alfa - 1) / (nc + self.n_atr + alfa - 2) \n",
        "\n",
        "  def predict_proba(self, X):\n",
        "    \"\"\"\n",
        "    Calcula a posteriori (proporcional) de un conjunto de datos\n",
        "    \"\"\"\n",
        "    prop = np.zeros((X.shape[0], self.n_clases))\n",
        "    for i in range(self.n_clases):\n",
        "      a0log = (1 - X) @ np.log(1 - self.qa[i, :])\n",
        "      a1log = X @ np.log(self.qa[i, :])\n",
        "      prop[:, i] = a0log + a1log + np.log(self.qc[i])\n",
        "    \n",
        "    return prop\n",
        "\n",
        "  def predict(self, x):\n",
        "    \"\"\"\n",
        "    Predice clases de un conjunto de datos\n",
        "    \"\"\"\n",
        "    return np.argmax(self.predict_proba(x), axis=1)\n",
        "\n",
        "bnblm = BernoulliNBLogMAP()\n",
        "bnblm.fit(X_ent, y_ent)\n",
        "\n",
        "y_bnblm = bnblm.predict(X_nuevos)\n",
        "p_bnblm = bnblm.predict_proba(X_nuevos)\n",
        "\n",
        "print(y_bnblm)\n",
        "print(p_bnblm) # Proporcional de probabilidades logarítmicas\n",
        "print(np.exp(p_bnblm)) # Proporcional de probabilidades\n",
        "print(np.exp(p_bnblm) / np.exp(p_bnblm).sum(axis=0)) # Probabilidades"
      ],
      "execution_count": 9,
      "outputs": [
        {
          "output_type": "stream",
          "name": "stdout",
          "text": [
            "[1 1]\n",
            "[[-7.94438676 -7.94366196]\n",
            " [-7.65670469 -6.89569341]]\n",
            "[[0.00035465 0.0003549 ]\n",
            " [0.00047286 0.00101213]]\n",
            "[[0.42857143 0.25961538]\n",
            " [0.57142857 0.74038462]]\n"
          ]
        }
      ]
    },
    {
      "cell_type": "markdown",
      "metadata": {
        "id": "OkxPZNUvF4K_"
      },
      "source": [
        "## Clasificación de documentos por tema\n",
        "Probaremos nuestro clasificador bayesiano ingenuo en la clasificación de documentos por tema usando el conjunto de datos _20 newsgroups_."
      ]
    },
    {
      "cell_type": "code",
      "metadata": {
        "id": "k_xhsQiEE3rq"
      },
      "source": [
        "ng_ent = fetch_20newsgroups(subset='train', \n",
        "                            shuffle=True, \n",
        "                            random_state=42)\n",
        "\n",
        "ng_prueba = fetch_20newsgroups(subset='test',\n",
        "                               shuffle=True, \n",
        "                               random_state=42)"
      ],
      "execution_count": 10,
      "outputs": []
    },
    {
      "cell_type": "markdown",
      "metadata": {
        "id": "d0RZiJkMW7pa"
      },
      "source": [
        "Obtenemos la representación vectorizada binaria. "
      ]
    },
    {
      "cell_type": "code",
      "metadata": {
        "id": "vrtHJB1JJiVo"
      },
      "source": [
        "vec = CountVectorizer(max_features=10000,\n",
        "                      stop_words='english', \n",
        "                      binary=True)\n",
        "\n",
        "X_ent = vec.fit_transform(ng_ent.data)\n",
        "y_ent = ng_ent.target\n",
        "\n",
        "X_prueba = vec.transform(ng_prueba.data)\n",
        "y_prueba = ng_prueba.target"
      ],
      "execution_count": 11,
      "outputs": []
    },
    {
      "cell_type": "markdown",
      "metadata": {
        "id": "jnzAQB4wWbPg"
      },
      "source": [
        "Veamos cómo están distribuidas las clases en el conjunto de entrenamiento"
      ]
    },
    {
      "cell_type": "code",
      "metadata": {
        "colab": {
          "base_uri": "https://localhost:8080/",
          "height": 350
        },
        "id": "gyuWjJv6O894",
        "outputId": "31c64664-5f62-471a-f8fb-684aa4a4ef36"
      },
      "source": [
        "f,axs = plt.subplots(1,2, figsize=(10,5), sharey=True)\n",
        "\n",
        "axs[0].hist(y_ent, bins=[i for i in range(21)])\n",
        "axs[0].set_xticks(np.unique(y_ent))\n",
        "axs[0].set_xlabel(u'Categoría')\n",
        "axs[0].set_xlabel(u'Categoría')\n",
        "axs[0].set_ylabel('Frecuencia')\n",
        "axs[0].set_title(u'Entrenamiento')\n",
        "\n",
        "axs[1].hist(y_prueba, bins=[i for i in range(21)])\n",
        "axs[1].set_xticks(np.unique(y_prueba))\n",
        "axs[1].set_xlabel(u'Categoría')\n",
        "axs[1].set_title(u'Prueba')\n",
        "\n",
        "plt.subplots_adjust(wspace=0, hspace=0)\n",
        "plt.show()"
      ],
      "execution_count": 12,
      "outputs": [
        {
          "output_type": "display_data",
          "data": {
            "text/plain": [
              "<Figure size 720x360 with 2 Axes>"
            ],
            "image/png": "[encoded data removed]"
          },
          "metadata": {
            "needs_background": "light"
          }
        }
      ]
    },
    {
      "cell_type": "markdown",
      "metadata": {
        "id": "-YWzry1PWCs4"
      },
      "source": [
        "En `scikit-learn` dentro del submódulo `naive_bayes` están definidos clasificadores bayesianos ingenuos con distintas distribuciones para los atributos. Compararemos nuestro clasificador con el `BernoulliNB` de `scikit-learn` para distintos tamaños de vocabulario."
      ]
    },
    {
      "cell_type": "code",
      "metadata": {
        "colab": {
          "base_uri": "https://localhost:8080/"
        },
        "id": "rgGhGHnoGmPf",
        "outputId": "08df862d-059f-4af2-d487-e14e0d4840fd"
      },
      "source": [
        "tam = np.arange(2000, 22000, 2000)\n",
        "exac_nt = []\n",
        "exac_sk = []\n",
        "for t in tam:\n",
        "  vec = CountVectorizer(max_features=t,\n",
        "                        stop_words='english', \n",
        "                        binary=True)\n",
        "\n",
        "  X_ent = vec.fit_transform(ng_ent.data)\n",
        "  y_ent = ng_ent.target\n",
        "\n",
        "  X_prueba = vec.transform(ng_prueba.data)\n",
        "  y_prueba = ng_prueba.target\n",
        "\n",
        "  clasificador = BernoulliNBLogMAP()\n",
        "  clasificador.fit(X_ent.toarray(), y_ent)\n",
        "  pred = clasificador.predict(X_prueba.toarray())\n",
        "  exactitud = (pred==y_prueba).mean()\n",
        "  exac_nt.append(exactitud)\n",
        "  print('Exactitud = {0}'.format(exactitud))"
      ],
      "execution_count": 13,
      "outputs": [
        {
          "output_type": "stream",
          "name": "stdout",
          "text": [
            "Exactitud = 0.6299787573021773\n",
            "Exactitud = 0.6763143919277749\n",
            "Exactitud = 0.7044609665427509\n",
            "Exactitud = 0.7156133828996283\n",
            "Exactitud = 0.7259691980881572\n",
            "Exactitud = 0.733935209771641\n",
            "Exactitud = 0.7405735528412108\n",
            "Exactitud = 0.7453531598513011\n",
            "Exactitud = 0.7480084970791291\n",
            "Exactitud = 0.7485395645246946\n"
          ]
        }
      ]
    },
    {
      "cell_type": "markdown",
      "metadata": {
        "id": "rF55fjLLDoE9"
      },
      "source": [
        "Graficamos el rendimiento con respecto al tamaño del vocabulario."
      ]
    },
    {
      "cell_type": "code",
      "metadata": {
        "colab": {
          "base_uri": "https://localhost:8080/",
          "height": 279
        },
        "id": "nNQ4Drf-i0TY",
        "outputId": "f2d112bd-8776-4e7f-cfe7-4a1968849e7f"
      },
      "source": [
        "plt.plot(tam, exac_nt)\n",
        "plt.xlabel(u'Tamaño de vocabulario')\n",
        "plt.ylabel(u'Exactitud')\n",
        "plt.show()"
      ],
      "execution_count": 14,
      "outputs": [
        {
          "output_type": "display_data",
          "data": {
            "text/plain": [
              "<Figure size 432x288 with 1 Axes>"
            ],
            "image/png": "[encoded data removed]"
          },
          "metadata": {
            "needs_background": "light"
          }
        }
      ]
    }
  ]
}