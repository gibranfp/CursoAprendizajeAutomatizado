{
  "cells": [
    {
      "cell_type": "markdown",
      "metadata": {
        "id": "view-in-github",
        "colab_type": "text"
      },
      "source": [
        "<a href=\"https://colab.research.google.com/github/gibranfp/CursoAprendizajeAutomatizado/blob/2023-2/notebooks/1b_clasificador_bayesiano_categorico.ipynb\" target=\"_parent\"><img src=\"https://colab.research.google.com/assets/colab-badge.svg\" alt=\"Open In Colab\"/></a>"
      ]
    },
    {
      "cell_type": "markdown",
      "metadata": {
        "id": "uSjbNy_ml5aa"
      },
      "source": [
        "# Clasificador bayesiano ingenuo categórico\n",
        "En este libreta revisaremos dos formas de programar el clasificador bayesiano ingenuo. "
      ]
    },
    {
      "cell_type": "code",
      "execution_count": 1,
      "metadata": {
        "id": "awNuegI336al"
      },
      "outputs": [],
      "source": [
        "import pandas as pd\n",
        "import numpy as np\n",
        "import matplotlib.pyplot as plt\n",
        "\n",
        "from sklearn.model_selection import train_test_split\n",
        "from sklearn.preprocessing import OneHotEncoder\n",
        "from sklearn.naive_bayes import MultinomialNB"
      ]
    },
    {
      "cell_type": "markdown",
      "metadata": {
        "id": "Hlo_0sqXmSDw"
      },
      "source": [
        "## Conjunto de datos\n",
        "Usaremos un conjunto de datos de partidas del juego Go, la cual contiene dos atributos categóricos: ID del jugador con fichas negras y ID del jugador con fichas blancas. Como respuesta tenemos el ganador de la partida."
      ]
    },
    {
      "cell_type": "code",
      "execution_count": 2,
      "metadata": {
        "id": "wYk_UL92mRcS"
      },
      "outputs": [],
      "source": [
        "df_ent = pd.read_csv('https://raw.githubusercontent.com/gibranfp/CursoAprendizajeAutomatizado/master/data/partidas_entrenamiento.csv')\n",
        "df_prueba = pd.read_csv('https://raw.githubusercontent.com/gibranfp/CursoAprendizajeAutomatizado/master/data/partidas_prueba.csv')"
      ]
    },
    {
      "cell_type": "markdown",
      "metadata": {
        "id": "7zm_qTAriYYk"
      },
      "source": [
        "Visualizamos los primeros registros."
      ]
    },
    {
      "cell_type": "code",
      "execution_count": 3,
      "metadata": {
        "colab": {
          "base_uri": "https://localhost:8080/",
          "height": 206
        },
        "id": "E0oodw_l-waU",
        "outputId": "799da148-b481-47d1-fdc6-7abc4516d5ca"
      },
      "outputs": [
        {
          "output_type": "execute_result",
          "data": {
            "text/plain": [
              "   id_blancas  id_negras  ganador\n",
              "0           3          4        1\n",
              "1           7          8        1\n",
              "2          40         10        1\n",
              "3          16         17        1\n",
              "4           8         18        1"
            ],
            "text/html": [
              "\n",
              "  <div id=\"df-92c94528-d05f-4247-bf56-6df8330765d5\">\n",
              "    <div class=\"colab-df-container\">\n",
              "      <div>\n",
              "<style scoped>\n",
              "    .dataframe tbody tr th:only-of-type {\n",
              "        vertical-align: middle;\n",
              "    }\n",
              "\n",
              "    .dataframe tbody tr th {\n",
              "        vertical-align: top;\n",
              "    }\n",
              "\n",
              "    .dataframe thead th {\n",
              "        text-align: right;\n",
              "    }\n",
              "</style>\n",
              "<table border=\"1\" class=\"dataframe\">\n",
              "  <thead>\n",
              "    <tr style=\"text-align: right;\">\n",
              "      <th></th>\n",
              "      <th>id_blancas</th>\n",
              "      <th>id_negras</th>\n",
              "      <th>ganador</th>\n",
              "    </tr>\n",
              "  </thead>\n",
              "  <tbody>\n",
              "    <tr>\n",
              "      <th>0</th>\n",
              "      <td>3</td>\n",
              "      <td>4</td>\n",
              "      <td>1</td>\n",
              "    </tr>\n",
              "    <tr>\n",
              "      <th>1</th>\n",
              "      <td>7</td>\n",
              "      <td>8</td>\n",
              "      <td>1</td>\n",
              "    </tr>\n",
              "    <tr>\n",
              "      <th>2</th>\n",
              "      <td>40</td>\n",
              "      <td>10</td>\n",
              "      <td>1</td>\n",
              "    </tr>\n",
              "    <tr>\n",
              "      <th>3</th>\n",
              "      <td>16</td>\n",
              "      <td>17</td>\n",
              "      <td>1</td>\n",
              "    </tr>\n",
              "    <tr>\n",
              "      <th>4</th>\n",
              "      <td>8</td>\n",
              "      <td>18</td>\n",
              "      <td>1</td>\n",
              "    </tr>\n",
              "  </tbody>\n",
              "</table>\n",
              "</div>\n",
              "      <button class=\"colab-df-convert\" onclick=\"convertToInteractive('df-92c94528-d05f-4247-bf56-6df8330765d5')\"\n",
              "              title=\"Convert this dataframe to an interactive table.\"\n",
              "              style=\"display:none;\">\n",
              "        \n",
              "  <svg xmlns=\"http://www.w3.org/2000/svg\" height=\"24px\"viewBox=\"0 0 24 24\"\n",
              "       width=\"24px\">\n",
              "    <path d=\"M0 0h24v24H0V0z\" fill=\"none\"/>\n",
              "    <path d=\"M18.56 5.44l.94 2.06.94-2.06 2.06-.94-2.06-.94-.94-2.06-.94 2.06-2.06.94zm-11 1L8.5 8.5l.94-2.06 2.06-.94-2.06-.94L8.5 2.5l-.94 2.06-2.06.94zm10 10l.94 2.06.94-2.06 2.06-.94-2.06-.94-.94-2.06-.94 2.06-2.06.94z\"/><path d=\"M17.41 7.96l-1.37-1.37c-.4-.4-.92-.59-1.43-.59-.52 0-1.04.2-1.43.59L10.3 9.45l-7.72 7.72c-.78.78-.78 2.05 0 2.83L4 21.41c.39.39.9.59 1.41.59.51 0 1.02-.2 1.41-.59l7.78-7.78 2.81-2.81c.8-.78.8-2.07 0-2.86zM5.41 20L4 18.59l7.72-7.72 1.47 1.35L5.41 20z\"/>\n",
              "  </svg>\n",
              "      </button>\n",
              "      \n",
              "  <style>\n",
              "    .colab-df-container {\n",
              "      display:flex;\n",
              "      flex-wrap:wrap;\n",
              "      gap: 12px;\n",
              "    }\n",
              "\n",
              "    .colab-df-convert {\n",
              "      background-color: #E8F0FE;\n",
              "      border: none;\n",
              "      border-radius: 50%;\n",
              "      cursor: pointer;\n",
              "      display: none;\n",
              "      fill: #1967D2;\n",
              "      height: 32px;\n",
              "      padding: 0 0 0 0;\n",
              "      width: 32px;\n",
              "    }\n",
              "\n",
              "    .colab-df-convert:hover {\n",
              "      background-color: #E2EBFA;\n",
              "      box-shadow: 0px 1px 2px rgba(60, 64, 67, 0.3), 0px 1px 3px 1px rgba(60, 64, 67, 0.15);\n",
              "      fill: #174EA6;\n",
              "    }\n",
              "\n",
              "    [theme=dark] .colab-df-convert {\n",
              "      background-color: #3B4455;\n",
              "      fill: #D2E3FC;\n",
              "    }\n",
              "\n",
              "    [theme=dark] .colab-df-convert:hover {\n",
              "      background-color: #434B5C;\n",
              "      box-shadow: 0px 1px 3px 1px rgba(0, 0, 0, 0.15);\n",
              "      filter: drop-shadow(0px 1px 2px rgba(0, 0, 0, 0.3));\n",
              "      fill: #FFFFFF;\n",
              "    }\n",
              "  </style>\n",
              "\n",
              "      <script>\n",
              "        const buttonEl =\n",
              "          document.querySelector('#df-92c94528-d05f-4247-bf56-6df8330765d5 button.colab-df-convert');\n",
              "        buttonEl.style.display =\n",
              "          google.colab.kernel.accessAllowed ? 'block' : 'none';\n",
              "\n",
              "        async function convertToInteractive(key) {\n",
              "          const element = document.querySelector('#df-92c94528-d05f-4247-bf56-6df8330765d5');\n",
              "          const dataTable =\n",
              "            await google.colab.kernel.invokeFunction('convertToInteractive',\n",
              "                                                     [key], {});\n",
              "          if (!dataTable) return;\n",
              "\n",
              "          const docLinkHtml = 'Like what you see? Visit the ' +\n",
              "            '<a target=\"_blank\" href=https://colab.research.google.com/notebooks/data_table.ipynb>data table notebook</a>'\n",
              "            + ' to learn more about interactive tables.';\n",
              "          element.innerHTML = '';\n",
              "          dataTable['output_type'] = 'display_data';\n",
              "          await google.colab.output.renderOutput(dataTable, element);\n",
              "          const docLink = document.createElement('div');\n",
              "          docLink.innerHTML = docLinkHtml;\n",
              "          element.appendChild(docLink);\n",
              "        }\n",
              "      </script>\n",
              "    </div>\n",
              "  </div>\n",
              "  "
            ]
          },
          "metadata": {},
          "execution_count": 3
        }
      ],
      "source": [
        "df_ent.head(5)"
      ]
    },
    {
      "cell_type": "code",
      "execution_count": 4,
      "metadata": {
        "colab": {
          "base_uri": "https://localhost:8080/",
          "height": 206
        },
        "id": "b1vnyjmNAT00",
        "outputId": "acd04449-2a34-48e3-990f-0b904b2b1c69"
      },
      "outputs": [
        {
          "output_type": "execute_result",
          "data": {
            "text/plain": [
              "   id_blancas  id_negras  ganador\n",
              "0          35         43        1\n",
              "1          45          9        0\n",
              "2          55        106        0\n",
              "3          35         43        1\n",
              "4          35         43        1"
            ],
            "text/html": [
              "\n",
              "  <div id=\"df-ce0fba25-3d9f-492e-802e-e6a3f6a3190d\">\n",
              "    <div class=\"colab-df-container\">\n",
              "      <div>\n",
              "<style scoped>\n",
              "    .dataframe tbody tr th:only-of-type {\n",
              "        vertical-align: middle;\n",
              "    }\n",
              "\n",
              "    .dataframe tbody tr th {\n",
              "        vertical-align: top;\n",
              "    }\n",
              "\n",
              "    .dataframe thead th {\n",
              "        text-align: right;\n",
              "    }\n",
              "</style>\n",
              "<table border=\"1\" class=\"dataframe\">\n",
              "  <thead>\n",
              "    <tr style=\"text-align: right;\">\n",
              "      <th></th>\n",
              "      <th>id_blancas</th>\n",
              "      <th>id_negras</th>\n",
              "      <th>ganador</th>\n",
              "    </tr>\n",
              "  </thead>\n",
              "  <tbody>\n",
              "    <tr>\n",
              "      <th>0</th>\n",
              "      <td>35</td>\n",
              "      <td>43</td>\n",
              "      <td>1</td>\n",
              "    </tr>\n",
              "    <tr>\n",
              "      <th>1</th>\n",
              "      <td>45</td>\n",
              "      <td>9</td>\n",
              "      <td>0</td>\n",
              "    </tr>\n",
              "    <tr>\n",
              "      <th>2</th>\n",
              "      <td>55</td>\n",
              "      <td>106</td>\n",
              "      <td>0</td>\n",
              "    </tr>\n",
              "    <tr>\n",
              "      <th>3</th>\n",
              "      <td>35</td>\n",
              "      <td>43</td>\n",
              "      <td>1</td>\n",
              "    </tr>\n",
              "    <tr>\n",
              "      <th>4</th>\n",
              "      <td>35</td>\n",
              "      <td>43</td>\n",
              "      <td>1</td>\n",
              "    </tr>\n",
              "  </tbody>\n",
              "</table>\n",
              "</div>\n",
              "      <button class=\"colab-df-convert\" onclick=\"convertToInteractive('df-ce0fba25-3d9f-492e-802e-e6a3f6a3190d')\"\n",
              "              title=\"Convert this dataframe to an interactive table.\"\n",
              "              style=\"display:none;\">\n",
              "        \n",
              "  <svg xmlns=\"http://www.w3.org/2000/svg\" height=\"24px\"viewBox=\"0 0 24 24\"\n",
              "       width=\"24px\">\n",
              "    <path d=\"M0 0h24v24H0V0z\" fill=\"none\"/>\n",
              "    <path d=\"M18.56 5.44l.94 2.06.94-2.06 2.06-.94-2.06-.94-.94-2.06-.94 2.06-2.06.94zm-11 1L8.5 8.5l.94-2.06 2.06-.94-2.06-.94L8.5 2.5l-.94 2.06-2.06.94zm10 10l.94 2.06.94-2.06 2.06-.94-2.06-.94-.94-2.06-.94 2.06-2.06.94z\"/><path d=\"M17.41 7.96l-1.37-1.37c-.4-.4-.92-.59-1.43-.59-.52 0-1.04.2-1.43.59L10.3 9.45l-7.72 7.72c-.78.78-.78 2.05 0 2.83L4 21.41c.39.39.9.59 1.41.59.51 0 1.02-.2 1.41-.59l7.78-7.78 2.81-2.81c.8-.78.8-2.07 0-2.86zM5.41 20L4 18.59l7.72-7.72 1.47 1.35L5.41 20z\"/>\n",
              "  </svg>\n",
              "      </button>\n",
              "      \n",
              "  <style>\n",
              "    .colab-df-container {\n",
              "      display:flex;\n",
              "      flex-wrap:wrap;\n",
              "      gap: 12px;\n",
              "    }\n",
              "\n",
              "    .colab-df-convert {\n",
              "      background-color: #E8F0FE;\n",
              "      border: none;\n",
              "      border-radius: 50%;\n",
              "      cursor: pointer;\n",
              "      display: none;\n",
              "      fill: #1967D2;\n",
              "      height: 32px;\n",
              "      padding: 0 0 0 0;\n",
              "      width: 32px;\n",
              "    }\n",
              "\n",
              "    .colab-df-convert:hover {\n",
              "      background-color: #E2EBFA;\n",
              "      box-shadow: 0px 1px 2px rgba(60, 64, 67, 0.3), 0px 1px 3px 1px rgba(60, 64, 67, 0.15);\n",
              "      fill: #174EA6;\n",
              "    }\n",
              "\n",
              "    [theme=dark] .colab-df-convert {\n",
              "      background-color: #3B4455;\n",
              "      fill: #D2E3FC;\n",
              "    }\n",
              "\n",
              "    [theme=dark] .colab-df-convert:hover {\n",
              "      background-color: #434B5C;\n",
              "      box-shadow: 0px 1px 3px 1px rgba(0, 0, 0, 0.15);\n",
              "      filter: drop-shadow(0px 1px 2px rgba(0, 0, 0, 0.3));\n",
              "      fill: #FFFFFF;\n",
              "    }\n",
              "  </style>\n",
              "\n",
              "      <script>\n",
              "        const buttonEl =\n",
              "          document.querySelector('#df-ce0fba25-3d9f-492e-802e-e6a3f6a3190d button.colab-df-convert');\n",
              "        buttonEl.style.display =\n",
              "          google.colab.kernel.accessAllowed ? 'block' : 'none';\n",
              "\n",
              "        async function convertToInteractive(key) {\n",
              "          const element = document.querySelector('#df-ce0fba25-3d9f-492e-802e-e6a3f6a3190d');\n",
              "          const dataTable =\n",
              "            await google.colab.kernel.invokeFunction('convertToInteractive',\n",
              "                                                     [key], {});\n",
              "          if (!dataTable) return;\n",
              "\n",
              "          const docLinkHtml = 'Like what you see? Visit the ' +\n",
              "            '<a target=\"_blank\" href=https://colab.research.google.com/notebooks/data_table.ipynb>data table notebook</a>'\n",
              "            + ' to learn more about interactive tables.';\n",
              "          element.innerHTML = '';\n",
              "          dataTable['output_type'] = 'display_data';\n",
              "          await google.colab.output.renderOutput(dataTable, element);\n",
              "          const docLink = document.createElement('div');\n",
              "          docLink.innerHTML = docLinkHtml;\n",
              "          element.appendChild(docLink);\n",
              "        }\n",
              "      </script>\n",
              "    </div>\n",
              "  </div>\n",
              "  "
            ]
          },
          "metadata": {},
          "execution_count": 4
        }
      ],
      "source": [
        "df_prueba.head(5)"
      ]
    },
    {
      "cell_type": "markdown",
      "metadata": {
        "id": "M6lv9ON8v9AZ"
      },
      "source": [
        "Examinamos algunos estadísticos."
      ]
    },
    {
      "cell_type": "code",
      "execution_count": 5,
      "metadata": {
        "colab": {
          "base_uri": "https://localhost:8080/",
          "height": 175
        },
        "id": "Ycb8-qkX6bz1",
        "outputId": "ec84ba25-e5d1-4b53-df99-1cb38e27ea41"
      },
      "outputs": [
        {
          "output_type": "execute_result",
          "data": {
            "text/plain": [
              "        id_blancas  id_negras  ganador\n",
              "count          115        115      115\n",
              "unique          34         31        2\n",
              "top             35         43        1\n",
              "freq            23         47       82"
            ],
            "text/html": [
              "\n",
              "  <div id=\"df-5d99f5d6-21ed-4d82-be61-044a6990be63\">\n",
              "    <div class=\"colab-df-container\">\n",
              "      <div>\n",
              "<style scoped>\n",
              "    .dataframe tbody tr th:only-of-type {\n",
              "        vertical-align: middle;\n",
              "    }\n",
              "\n",
              "    .dataframe tbody tr th {\n",
              "        vertical-align: top;\n",
              "    }\n",
              "\n",
              "    .dataframe thead th {\n",
              "        text-align: right;\n",
              "    }\n",
              "</style>\n",
              "<table border=\"1\" class=\"dataframe\">\n",
              "  <thead>\n",
              "    <tr style=\"text-align: right;\">\n",
              "      <th></th>\n",
              "      <th>id_blancas</th>\n",
              "      <th>id_negras</th>\n",
              "      <th>ganador</th>\n",
              "    </tr>\n",
              "  </thead>\n",
              "  <tbody>\n",
              "    <tr>\n",
              "      <th>count</th>\n",
              "      <td>115</td>\n",
              "      <td>115</td>\n",
              "      <td>115</td>\n",
              "    </tr>\n",
              "    <tr>\n",
              "      <th>unique</th>\n",
              "      <td>34</td>\n",
              "      <td>31</td>\n",
              "      <td>2</td>\n",
              "    </tr>\n",
              "    <tr>\n",
              "      <th>top</th>\n",
              "      <td>35</td>\n",
              "      <td>43</td>\n",
              "      <td>1</td>\n",
              "    </tr>\n",
              "    <tr>\n",
              "      <th>freq</th>\n",
              "      <td>23</td>\n",
              "      <td>47</td>\n",
              "      <td>82</td>\n",
              "    </tr>\n",
              "  </tbody>\n",
              "</table>\n",
              "</div>\n",
              "      <button class=\"colab-df-convert\" onclick=\"convertToInteractive('df-5d99f5d6-21ed-4d82-be61-044a6990be63')\"\n",
              "              title=\"Convert this dataframe to an interactive table.\"\n",
              "              style=\"display:none;\">\n",
              "        \n",
              "  <svg xmlns=\"http://www.w3.org/2000/svg\" height=\"24px\"viewBox=\"0 0 24 24\"\n",
              "       width=\"24px\">\n",
              "    <path d=\"M0 0h24v24H0V0z\" fill=\"none\"/>\n",
              "    <path d=\"M18.56 5.44l.94 2.06.94-2.06 2.06-.94-2.06-.94-.94-2.06-.94 2.06-2.06.94zm-11 1L8.5 8.5l.94-2.06 2.06-.94-2.06-.94L8.5 2.5l-.94 2.06-2.06.94zm10 10l.94 2.06.94-2.06 2.06-.94-2.06-.94-.94-2.06-.94 2.06-2.06.94z\"/><path d=\"M17.41 7.96l-1.37-1.37c-.4-.4-.92-.59-1.43-.59-.52 0-1.04.2-1.43.59L10.3 9.45l-7.72 7.72c-.78.78-.78 2.05 0 2.83L4 21.41c.39.39.9.59 1.41.59.51 0 1.02-.2 1.41-.59l7.78-7.78 2.81-2.81c.8-.78.8-2.07 0-2.86zM5.41 20L4 18.59l7.72-7.72 1.47 1.35L5.41 20z\"/>\n",
              "  </svg>\n",
              "      </button>\n",
              "      \n",
              "  <style>\n",
              "    .colab-df-container {\n",
              "      display:flex;\n",
              "      flex-wrap:wrap;\n",
              "      gap: 12px;\n",
              "    }\n",
              "\n",
              "    .colab-df-convert {\n",
              "      background-color: #E8F0FE;\n",
              "      border: none;\n",
              "      border-radius: 50%;\n",
              "      cursor: pointer;\n",
              "      display: none;\n",
              "      fill: #1967D2;\n",
              "      height: 32px;\n",
              "      padding: 0 0 0 0;\n",
              "      width: 32px;\n",
              "    }\n",
              "\n",
              "    .colab-df-convert:hover {\n",
              "      background-color: #E2EBFA;\n",
              "      box-shadow: 0px 1px 2px rgba(60, 64, 67, 0.3), 0px 1px 3px 1px rgba(60, 64, 67, 0.15);\n",
              "      fill: #174EA6;\n",
              "    }\n",
              "\n",
              "    [theme=dark] .colab-df-convert {\n",
              "      background-color: #3B4455;\n",
              "      fill: #D2E3FC;\n",
              "    }\n",
              "\n",
              "    [theme=dark] .colab-df-convert:hover {\n",
              "      background-color: #434B5C;\n",
              "      box-shadow: 0px 1px 3px 1px rgba(0, 0, 0, 0.15);\n",
              "      filter: drop-shadow(0px 1px 2px rgba(0, 0, 0, 0.3));\n",
              "      fill: #FFFFFF;\n",
              "    }\n",
              "  </style>\n",
              "\n",
              "      <script>\n",
              "        const buttonEl =\n",
              "          document.querySelector('#df-5d99f5d6-21ed-4d82-be61-044a6990be63 button.colab-df-convert');\n",
              "        buttonEl.style.display =\n",
              "          google.colab.kernel.accessAllowed ? 'block' : 'none';\n",
              "\n",
              "        async function convertToInteractive(key) {\n",
              "          const element = document.querySelector('#df-5d99f5d6-21ed-4d82-be61-044a6990be63');\n",
              "          const dataTable =\n",
              "            await google.colab.kernel.invokeFunction('convertToInteractive',\n",
              "                                                     [key], {});\n",
              "          if (!dataTable) return;\n",
              "\n",
              "          const docLinkHtml = 'Like what you see? Visit the ' +\n",
              "            '<a target=\"_blank\" href=https://colab.research.google.com/notebooks/data_table.ipynb>data table notebook</a>'\n",
              "            + ' to learn more about interactive tables.';\n",
              "          element.innerHTML = '';\n",
              "          dataTable['output_type'] = 'display_data';\n",
              "          await google.colab.output.renderOutput(dataTable, element);\n",
              "          const docLink = document.createElement('div');\n",
              "          docLink.innerHTML = docLinkHtml;\n",
              "          element.appendChild(docLink);\n",
              "        }\n",
              "      </script>\n",
              "    </div>\n",
              "  </div>\n",
              "  "
            ]
          },
          "metadata": {},
          "execution_count": 5
        }
      ],
      "source": [
        "df_prueba.astype('object').describe()"
      ]
    },
    {
      "cell_type": "markdown",
      "metadata": {
        "id": "q8QW3Nza6bOl"
      },
      "source": [
        "## Programación con NumPy\n",
        "Definimos nuestro clasificador bayesiano ingenuo para la tarea de predicción del ganador de una partida dados los jugadores y con qué fichas juega. "
      ]
    },
    {
      "cell_type": "code",
      "execution_count": 6,
      "metadata": {
        "id": "FrYq6JPcZvq6"
      },
      "outputs": [],
      "source": [
        "class CategoricalNB:\n",
        "  \"Clasificador bayesiano ingenuo binario con características categóricas\"\n",
        "\n",
        "  def prob_clase_(self):\n",
        "    \"\"\"\n",
        "    Calcula probabilidad de la clase\n",
        "    \"\"\"\n",
        "    return self.qc\n",
        "\n",
        "  def prob_cond_clase_(self, X):\n",
        "    \"\"\"\n",
        "    Calcula probabilidad de atributo dada la clase\n",
        "    \"\"\"\n",
        "    v = np.zeros((X.shape[0], self.clases.size))\n",
        "    a = np.arange(X.shape[1])\n",
        "    for k in range(X.shape[0]):\n",
        "      for i in range(self.clases.size):\n",
        "        v[k, i] = self.qa[i, a, X[k, a]].sum()\n",
        "    return v\n",
        "\n",
        "  def fit(self, X, y, alfa = 2):\n",
        "    \"\"\"\n",
        "    Entrena clasificador bayesiano ingenuo\n",
        "    \"\"\"\n",
        "    # Calcula parámetros de distribución a priori (categórica)\n",
        "    n = X.shape[0]\n",
        "    self.clases = np.unique(y)\n",
        "    self.n_clases = self.clases.size\n",
        "    self.qc = np.zeros(self.clases.size)\n",
        "    for i,c in enumerate(self.clases):\n",
        "      # Misma alfa para todas las categorías\n",
        "      self.qc[i] = (np.sum(y == c) + alfa - 1) / (n + alfa * self.n_clases - self.n_clases)\n",
        "\n",
        "    # Escala logarítmica para parámetros de a priori\n",
        "    self.qc[self.qc == 0] = np.nextafter(0, 1)\n",
        "    self.qc[self.qc == 1] = np.nextafter(1, 0)\n",
        "    self.qc = np.log(self.qc)\n",
        "\n",
        "    # Calcula parámetros de verosimilitud (categórica)\n",
        "    self.n_atrib = X.shape[1]\n",
        "\n",
        "    # Presupone mismas categorías en los dos atributos (mismos posibles jugadores)\n",
        "    self.n_cat = int(np.max(X)) + 1\n",
        "    self.qa = np.zeros((self.n_clases, self.n_atrib, self.n_cat))\n",
        "\n",
        "    # Estima parámetros para cada clase, atributo y categoría (máximo a posteriori)\n",
        "    for c in self.clases:\n",
        "      for i in range(self.n_atrib):\n",
        "        X_ci = X[y == c, i]\n",
        "        for j in range(self.n_cat): \n",
        "          # Misma alfa para todas las categorías\n",
        "          self.qa[c, i, j] = (np.sum(X_ci == j) + alfa - 1) / (X_ci.shape[0] + alfa * self.n_cat - self.n_cat)\n",
        "\n",
        "    # Usa escala logarítmica para parámetros de verosimilitud\n",
        "    self.qa[self.qa == 0] = np.nextafter(0, 1)\n",
        "    self.qa[self.qa == 1] = np.nextafter(1, 0)\n",
        "    self.qa = np.log(self.qa)\n",
        "\n",
        "  def predict(self, X):\n",
        "    \"\"\"\n",
        "    Predice clases dada un conjunto de datos\n",
        "    \"\"\"\n",
        "    aposteriori = self.prob_clase_() + self.prob_cond_clase_(X)\n",
        "    return np.argmax(aposteriori, axis = 1), np.max(aposteriori, axis = 1)\n",
        "\n",
        "  def score(self, X, y):\n",
        "    \"\"\"\n",
        "    Calcula exactitud dado datos\n",
        "    \"\"\"\n",
        "    preds, probs = self.predict(X)\n",
        "    return np.mean(preds == y) * 100"
      ]
    },
    {
      "cell_type": "markdown",
      "metadata": {
        "id": "OgBz01HGtjkI"
      },
      "source": [
        "Entrenamos y evaluamos el clasificador. "
      ]
    },
    {
      "cell_type": "code",
      "execution_count": 7,
      "metadata": {
        "colab": {
          "base_uri": "https://localhost:8080/"
        },
        "id": "rc0kR3U-Z5zb",
        "outputId": "21442b4c-6686-49ed-a811-9d80b5c77bc1"
      },
      "outputs": [
        {
          "output_type": "stream",
          "name": "stdout",
          "text": [
            "Exactitud en entrenamiento: 84.64%\n",
            "Exactitud en prueba: 69.57%\n"
          ]
        }
      ],
      "source": [
        "X_ent = df_ent[['id_blancas', 'id_negras']].to_numpy()\n",
        "y_ent = df_ent['ganador'].to_numpy()\n",
        "\n",
        "X_prueba = df_prueba[['id_blancas', 'id_negras']].to_numpy()\n",
        "y_prueba = df_prueba['ganador'].to_numpy()\n",
        "\n",
        "cnb = CategoricalNB()\n",
        "cnb.fit(X_ent, y_ent)\n",
        "\n",
        "print('Exactitud en entrenamiento: {0:.2f}%'.format(cnb.score(X_ent, y_ent)))\n",
        "print('Exactitud en prueba: {0:.2f}%'.format(cnb.score(X_prueba, y_prueba)))"
      ]
    },
    {
      "cell_type": "markdown",
      "metadata": {
        "id": "4rc9hsG7aX6x"
      },
      "source": [
        "\n",
        "## Programación con scikit-learn\n",
        "Convertimos cada atributo categórico a 1 de K."
      ]
    },
    {
      "cell_type": "code",
      "execution_count": 8,
      "metadata": {
        "id": "a1XNYrPqaO1P"
      },
      "outputs": [],
      "source": [
        "n_values = int(np.max(X_ent[:,:2])) + 1\n",
        "categorias = [c for c in range(n_values)]\n",
        "\n",
        "X0_ent = X_ent[:, 0]\n",
        "ohe0 = OneHotEncoder(categories=[categorias])\n",
        "X0_ent_ohe = ohe0.fit_transform(X0_ent[:, np.newaxis])\n",
        "\n",
        "X1_ent = X_ent[:, 1]\n",
        "ohe1 = OneHotEncoder(categories=[categorias])\n",
        "X1_ent_ohe = ohe1.fit_transform(X1_ent[:, np.newaxis])"
      ]
    },
    {
      "cell_type": "markdown",
      "metadata": {
        "id": "CgXA-1y9a4k9"
      },
      "source": [
        "Generamos modelos de clasificación bayesiana multinomial por separado por cada atributo."
      ]
    },
    {
      "cell_type": "code",
      "execution_count": 9,
      "metadata": {
        "id": "czB3Bz2Ga9b3"
      },
      "outputs": [],
      "source": [
        "mnb0 = MultinomialNB()\n",
        "mnb0.fit(X0_ent_ohe, y_ent)\n",
        "mnb1 = MultinomialNB()\n",
        "mnb1 = mnb1.fit(X1_ent_ohe, y_ent)"
      ]
    },
    {
      "cell_type": "markdown",
      "metadata": {
        "id": "lrOmct1Kac2I"
      },
      "source": [
        "Calcula probabilidad de clases dados datos de entrenamiento por cada modelo."
      ]
    },
    {
      "cell_type": "code",
      "execution_count": 10,
      "metadata": {
        "id": "1QzFNxXeacQP"
      },
      "outputs": [],
      "source": [
        "pe0 = mnb0.predict_log_proba(X0_ent_ohe)\n",
        "pe1 = mnb1.predict_log_proba(X1_ent_ohe)"
      ]
    },
    {
      "cell_type": "markdown",
      "metadata": {
        "id": "aHEDbRliagza"
      },
      "source": [
        "Sumamos probabilidades y restamos a priori extra (se sumó 2 veces porque fueron 2 modelos)."
      ]
    },
    {
      "cell_type": "code",
      "execution_count": 11,
      "metadata": {
        "id": "_h61rOoaamiJ"
      },
      "outputs": [],
      "source": [
        "pet = pe0 + pe1 - mnb0.class_log_prior_ \n",
        "pred_ent = pet.argmax(axis = 1)"
      ]
    },
    {
      "cell_type": "markdown",
      "metadata": {
        "id": "LbSlBxMOanBd"
      },
      "source": [
        "Convertimos cada atributo de los datos de prueba a 1 de K."
      ]
    },
    {
      "cell_type": "code",
      "execution_count": 12,
      "metadata": {
        "id": "L9ASpE80awJy"
      },
      "outputs": [],
      "source": [
        "X0_prueba = X_prueba[:, 0]\n",
        "X1_prueba = X_prueba[:, 1]\n",
        "\n",
        "X0_prueba_ohe = ohe0.transform(X0_prueba[:, np.newaxis])\n",
        "X1_prueba_ohe = ohe1.transform(X1_prueba[:, np.newaxis])"
      ]
    },
    {
      "cell_type": "markdown",
      "metadata": {
        "id": "X-1CC74hbEks"
      },
      "source": [
        "Calculamos probabilidad de clases dados datos de entrenamiento por cada modelo."
      ]
    },
    {
      "cell_type": "code",
      "execution_count": 13,
      "metadata": {
        "id": "_acSkFyMbG6j"
      },
      "outputs": [],
      "source": [
        "pv0 = mnb0.predict_log_proba(X0_prueba_ohe)\n",
        "pv1 = mnb1.predict_log_proba(X1_prueba_ohe)"
      ]
    },
    {
      "cell_type": "markdown",
      "metadata": {
        "id": "9ERryhRCbLgB"
      },
      "source": [
        "Sumamos probabilidades y restamos a priori extra (se sumó 2 veces porque fueron 2 modelos)."
      ]
    },
    {
      "cell_type": "code",
      "execution_count": 14,
      "metadata": {
        "id": "53_tyDvobOHt"
      },
      "outputs": [],
      "source": [
        "pvt = pv0 + pv1 - mnb0.class_log_prior_\n",
        "pred_prueba = pvt.argmax(axis = 1)"
      ]
    },
    {
      "cell_type": "markdown",
      "metadata": {
        "id": "ZJGhtV2ObQ8F"
      },
      "source": [
        "Calculamos la exaxctitud para los conjuntos de entrenamiento y prueba."
      ]
    },
    {
      "cell_type": "code",
      "execution_count": 15,
      "metadata": {
        "colab": {
          "base_uri": "https://localhost:8080/"
        },
        "id": "pHvm73cSbWih",
        "outputId": "1aab4e85-1610-4fdd-c4c6-f230312f598f"
      },
      "outputs": [
        {
          "output_type": "stream",
          "name": "stdout",
          "text": [
            "Exactitud en entrenamiento: 84.64%\n",
            "Exactitud en prueba: 69.57%\n"
          ]
        }
      ],
      "source": [
        "print('Exactitud en entrenamiento: {0:.2f}%'.format(np.mean(pred_ent == y_ent) * 100))\n",
        "print('Exactitud en prueba: {0:.2f}%'.format(np.mean(pred_prueba == y_prueba) * 100))"
      ]
    }
  ],
  "metadata": {
    "colab": {
      "provenance": [],
      "authorship_tag": "ABX9TyPSDqOxU2NDoFDJT1/Z6SSb",
      "include_colab_link": true
    },
    "kernelspec": {
      "display_name": "Python 3",
      "name": "python3"
    }
  },
  "nbformat": 4,
  "nbformat_minor": 0
}