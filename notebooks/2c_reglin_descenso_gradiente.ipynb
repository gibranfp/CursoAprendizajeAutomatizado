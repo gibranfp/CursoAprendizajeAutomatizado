{
  "nbformat": 4,
  "nbformat_minor": 0,
  "metadata": {
    "colab": {
      "provenance": [],
      "mount_file_id": "1uCaB_CYl1eKzU1xOEOv9u15Abujjcfls",
      "authorship_tag": "ABX9TyPC/iEqUvzpdh1uHMMUZysT",
      "include_colab_link": true
    },
    "kernelspec": {
      "name": "python3",
      "display_name": "Python 3"
    }
  },
  "cells": [
    {
      "cell_type": "markdown",
      "metadata": {
        "id": "view-in-github",
        "colab_type": "text"
      },
      "source": [
        "<a href=\"https://colab.research.google.com/github/gibranfp/CursoAprendizajeAutomatizado/blob/2023-2/notebooks/2c_reglin_descenso_gradiente.ipynb\" target=\"_parent\"><img src=\"https://colab.research.google.com/assets/colab-badge.svg\" alt=\"Open In Colab\"/></a>"
      ]
    },
    {
      "cell_type": "markdown",
      "source": [
        "# Regresión lineal mediante descenso por gradiente\n",
        "En esta libreta programaremos y evaluaremos el algoritmo de descenso por gradiente para regresión lineal."
      ],
      "metadata": {
        "id": "ilaK_YgGx0jg"
      }
    },
    {
      "cell_type": "code",
      "metadata": {
        "id": "C5y3Psw8WRmC"
      },
      "source": [
        "import numpy as np\n",
        "np.random.seed(42) # por reproducibilidad\n",
        "\n",
        "import pandas as pd\n",
        "import matplotlib.pyplot as plt\n",
        "import seaborn as sns\n",
        "\n",
        "from sklearn.metrics import mean_squared_error as ecm\n",
        "from sklearn.model_selection import train_test_split"
      ],
      "execution_count": 1,
      "outputs": []
    },
    {
      "cell_type": "markdown",
      "source": [
        "## Conjunto de datos\n",
        "Posteriormente cargamos los datos de GPAs de alumnos de licenciatura (fuente: http://onlinestatbook.com/2/case_studies/sat.html). Usamos sólo el atributo Computer Science GPA (columna `comp_GPA`) como regresor para el University GPA (columna `univ_GPA`)."
      ],
      "metadata": {
        "id": "B_FEhGbByOeh"
      }
    },
    {
      "cell_type": "code",
      "source": [
        "sat = pd.read_csv('http://onlinestatbook.com/2/case_studies/data/sat.txt', sep=' ')\n",
        "\n",
        "X = sat.comp_GPA.to_numpy()[:, np.newaxis]\n",
        "y = sat.univ_GPA.to_numpy()[:, np.newaxis]\n",
        "\n",
        "ones = np.ones((X.shape[0], 1))\n",
        "X = np.concatenate((ones, X), axis = 1)"
      ],
      "metadata": {
        "id": "BxmSb3DAyS1_"
      },
      "execution_count": 2,
      "outputs": []
    },
    {
      "cell_type": "markdown",
      "source": [
        "Dividimos  aleatoriamente el conjunto de datos en 80% para entrenamiento y 20% para validación. Para eso usaremos la funcion `train_test_split` de scikit-learn."
      ],
      "metadata": {
        "id": "SnMd0oZdyZPA"
      }
    },
    {
      "cell_type": "code",
      "source": [
        "X_ent, X_valid, y_ent, y_valid = train_test_split(X, y, test_size=0.2, random_state=42)\n",
        "\n",
        "X_rango = np.arange(2.0, 4.0, 0.01)[:, np.newaxis] \n",
        "ones_rango = np.ones((X_rango.shape[0], 1))\n",
        "X_rango = np.concatenate((ones_rango, X_rango), axis = 1).T"
      ],
      "metadata": {
        "id": "PTiqiJcayxTh"
      },
      "execution_count": 3,
      "outputs": []
    },
    {
      "cell_type": "markdown",
      "source": [
        "## Descenso por gradiente\n",
        "Vamos a entrenar un modelo de regresión lineal usando descenso por gradiente. En particular, buscaremos minimizar la suma de errores cuadráticos, la cual definimos de la siguiente manera:\n",
        "$$\n",
        "E(\\mathbf{y}, \\hat{\\mathbf{y}}) = \\frac{1}{2} \\sum_{i = 1} ^n \\left(\\hat{y^{(i)}} - y^{(i)}\\right)^2\n",
        "$$\n",
        "\n",
        "El gradiente de esta función de pérdida respecto a los parámetros $\\boldsymbol{\\theta} \\in \\mathbb{R}^d$ está dado por\n",
        "\n",
        "$$\n",
        "\\nabla E(\\mathbf{y}, \\hat{\\mathbf{y}}) = \\left[\\frac{\\partial E(\\mathbf{y}, \\hat{\\mathbf{y}})}{\\partial \\theta_0}, \\frac{\\partial E(\\mathbf{y}, \\hat{\\mathbf{y}})}{\\partial \\theta_1}, \\cdots, \\frac{\\partial E(\\mathbf{y}, \\hat{\\mathbf{y}})}{\\partial \\theta_d}\\right]\n",
        "$$\n",
        "\n",
        "donde\n",
        "\n",
        "$$\n",
        "\\frac{\\partial E(\\mathbf{y}, \\hat{\\mathbf{y}})}{\\partial \\theta_j} = \\sum_{i=1}^n \\left[ \\left(\\hat{y^{(i)}} - y^{(i)}\\right) \\cdot x_j^{(i)} \\right]\n",
        "$$"
      ],
      "metadata": {
        "id": "Hqvfk27k2qo5"
      }
    },
    {
      "cell_type": "code",
      "metadata": {
        "id": "TkB1VsP4Wfpo"
      },
      "source": [
        "def gradiente(X, y, y_predicha):\n",
        "  return X.T @ (y_predicha - y)"
      ],
      "execution_count": 4,
      "outputs": []
    },
    {
      "cell_type": "markdown",
      "source": [
        "El algoritmo del descenso por gradiente quedaría como sigue:"
      ],
      "metadata": {
        "id": "GF-uffEPnOOu"
      }
    },
    {
      "cell_type": "code",
      "metadata": {
        "id": "ESSXTMPeWnOy"
      },
      "source": [
        "def descenso_gradiente(X, y, n_iter = 10, tasa = 0.001):\n",
        "  hist_error = np.zeros(n_iter)\n",
        "  \n",
        "  # Inicializamos parámetro con número aleatorio\n",
        "  param = np.random.rand(X.shape[1], 1)\n",
        "\n",
        "  for it in range(n_iter):\n",
        "    # Obtenemos predicciones con parámetro actual\n",
        "    y_predicha =  X @ param\n",
        "\n",
        "    hist_error[it] = ecm(y, y_predicha)\n",
        "\n",
        "    # Actualizamos parámetro\n",
        "    param = param - tasa * gradiente(X, y, y_predicha)\n",
        "\n",
        "  return param, hist_error"
      ],
      "execution_count": 5,
      "outputs": []
    },
    {
      "cell_type": "markdown",
      "metadata": {
        "id": "-GC963unVL3A"
      },
      "source": [
        "## Entrenamiento\n",
        "Entrenamos nuestro modelo de regresión lineal con este algoritmo por 1000 iteraciones con una tasa de aprendizaje de 0.001:"
      ]
    },
    {
      "cell_type": "code",
      "metadata": {
        "id": "zJsvVkse_Zfq"
      },
      "source": [
        "n_iter = 1000\n",
        "param_dg, errores= descenso_gradiente(X_ent, \n",
        "                                      y_ent, \n",
        "                                      n_iter = n_iter, \n",
        "                                      tasa = 0.001)"
      ],
      "execution_count": 6,
      "outputs": []
    },
    {
      "cell_type": "markdown",
      "source": [
        "Graficamos el error cuadrático medio en cada iteración:"
      ],
      "metadata": {
        "id": "ZJH_IG7bniU-"
      }
    },
    {
      "cell_type": "code",
      "source": [
        "plt.plot(np.array(range(n_iter)), errores)\n",
        "plt.xlabel(u'Iteración')\n",
        "plt.ylabel(u'Error cuadrático medio')\n",
        "plt.show()"
      ],
      "metadata": {
        "colab": {
          "base_uri": "https://localhost:8080/",
          "height": 283
        },
        "id": "fxBkOPsOCTrS",
        "outputId": "5ad334e3-981d-4f36-d863-5e2d6d273b32"
      },
      "execution_count": 7,
      "outputs": [
        {
          "output_type": "display_data",
          "data": {
            "text/plain": [
              "<Figure size 432x288 with 1 Axes>"
            ],
            "image/png": "[encoded data removed]"
          },
          "metadata": {
            "needs_background": "light"
          }
        }
      ]
    },
    {
      "cell_type": "markdown",
      "source": [
        "Comparamos los parámetros encontrados por mínimos cuadrados y usando el algoritmo del descenso por gradiente"
      ],
      "metadata": {
        "id": "iM-9e5s2nlnH"
      }
    },
    {
      "cell_type": "code",
      "source": [
        "param_mc = np.linalg.inv(X_ent.T @ X_ent) @ (X_ent.T @ y_ent)\n",
        "\n",
        "print(f'MC = {param_mc.T}')\n",
        "print(f'DG = {param_dg.T}')"
      ],
      "metadata": {
        "colab": {
          "base_uri": "https://localhost:8080/"
        },
        "id": "2TtNJ6a8C5Ga",
        "outputId": "0dcd9048-5ff8-420f-c10a-90db1ff62218"
      },
      "execution_count": 8,
      "outputs": [
        {
          "output_type": "stream",
          "name": "stdout",
          "text": [
            "MC = [[0.67739565 0.80044273]]\n",
            "DG = [[0.62816373 0.81577453]]\n"
          ]
        }
      ]
    },
    {
      "cell_type": "markdown",
      "source": [
        "Visualizamos las rectas con ambas soluciones"
      ],
      "metadata": {
        "id": "rAMia4Ptnszm"
      }
    },
    {
      "cell_type": "code",
      "source": [
        "y_rango_dg = X_rango.T @ param_dg\n",
        "y_rango_mc = X_rango.T @ param_mc\n",
        "\n",
        "plt.plot(X_ent[:, 1], y_ent[:, 0], 'ro')\n",
        "plt.plot(X_rango.T[:, 1], y_rango_mc[:, 0], 'g', label='Descenso por gradiente')\n",
        "plt.plot(X_rango.T[:, 1], y_rango_dg[:, 0], 'b', label='Mínimos cuadrados')\n",
        "plt.legend()\n",
        "plt.show()"
      ],
      "metadata": {
        "colab": {
          "base_uri": "https://localhost:8080/",
          "height": 265
        },
        "id": "OEizSy1Y8Mhn",
        "outputId": "96daf004-bdcd-4b6c-c2f5-9d50e4bbb73a"
      },
      "execution_count": 9,
      "outputs": [
        {
          "output_type": "display_data",
          "data": {
            "text/plain": [
              "<Figure size 432x288 with 1 Axes>"
            ],
            "image/png": "[encoded data removed]"
          },
          "metadata": {
            "needs_background": "light"
          }
        }
      ]
    },
    {
      "cell_type": "markdown",
      "source": [
        "## Ejercicio\n",
        "+ Programa y evalúa el algoritmo del descenso por gradiente para regresión lineal que minimice la siguiente función de error:\n",
        "\n",
        "$$\n",
        "E(\\mathbf{y}, \\hat{\\mathbf{y}}) = \\frac{1}{2\\cdot n} \\sum_{i = 1} ^n \\left(\\hat{y}^{(i)} - y^{(i)}\\right)^2\n",
        "$$"
      ],
      "metadata": {
        "id": "LFnBPHTxosGW"
      }
    }
  ]
}