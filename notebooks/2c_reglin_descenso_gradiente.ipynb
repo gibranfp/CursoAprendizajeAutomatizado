{
  "nbformat": 4,
  "nbformat_minor": 0,
  "metadata": {
    "colab": {
      "provenance": [],
      "include_colab_link": true
    },
    "kernelspec": {
      "name": "python3",
      "display_name": "Python 3"
    }
  },
  "cells": [
    {
      "cell_type": "markdown",
      "metadata": {
        "id": "view-in-github",
        "colab_type": "text"
      },
      "source": [
        "<a href=\"https://colab.research.google.com/github/gibranfp/CursoAprendizajeAutomatizado/blob/2024-2/notebooks/2c_reglin_descenso_gradiente.ipynb\" target=\"_parent\"><img src=\"https://colab.research.google.com/assets/colab-badge.svg\" alt=\"Open In Colab\"/></a>"
      ]
    },
    {
      "cell_type": "markdown",
      "source": [
        "# Regresión lineal mediante descenso por gradiente\n",
        "En esta libreta programaremos y evaluaremos el algoritmo de descenso por gradiente para regresión lineal."
      ],
      "metadata": {
        "id": "ilaK_YgGx0jg"
      }
    },
    {
      "cell_type": "code",
      "metadata": {
        "id": "C5y3Psw8WRmC"
      },
      "source": [
        "import numpy as np\n",
        "np.random.seed(42) # por reproducibilidad\n",
        "\n",
        "import pandas as pd\n",
        "import matplotlib.pyplot as plt"
      ],
      "execution_count": 1,
      "outputs": []
    },
    {
      "cell_type": "markdown",
      "metadata": {
        "id": "oPqXRMztRrNq"
      },
      "source": [
        "## Conjunto de datos\n",
        "Ccargamos los datos de GPAs de alumnos de licenciatura (fuente: http://onlinestatbook.com/2/case_studies/sat.html)\n",
        "\n",
        "Campo | Descripción\n",
        "--|--\n",
        "high_GPA | High school grade point average\n",
        "math_SAT | Math SAT score\n",
        "verb_SAT | Verbal SAT score\n",
        "comp_GPA | Computer science grade point average\n",
        "univ_GPA | Overall university grade point average\n"
      ]
    },
    {
      "cell_type": "markdown",
      "metadata": {
        "id": "LLhx1MS5tbxV"
      },
      "source": [
        "Lo cargamos como un `DataFrame` usando Pandas y examinamos los primeros ejemplos"
      ]
    },
    {
      "cell_type": "code",
      "metadata": {
        "id": "ofLJX6iTSfqI",
        "colab": {
          "base_uri": "https://localhost:8080/",
          "height": 206
        },
        "outputId": "d305dd8c-a8c2-4535-d2e8-4c21593620d2"
      },
      "source": [
        "sat = pd.read_csv('http://onlinestatbook.com/2/case_studies/data/sat.txt', sep=' ')\n",
        "sat.head(5)"
      ],
      "execution_count": 2,
      "outputs": [
        {
          "output_type": "execute_result",
          "data": {
            "text/plain": [
              "   high_GPA  math_SAT  verb_SAT  comp_GPA  univ_GPA\n",
              "0      3.45       643       589      3.76      3.52\n",
              "1      2.78       558       512      2.87      2.91\n",
              "2      2.52       583       503      2.54      2.40\n",
              "3      3.67       685       602      3.83      3.47\n",
              "4      3.24       592       538      3.29      3.47"
            ],
            "text/html": [
              "\n",
              "  <div id=\"df-9d0507f9-f75a-4d69-ae17-1c4f0906db86\" class=\"colab-df-container\">\n",
              "    <div>\n",
              "<style scoped>\n",
              "    .dataframe tbody tr th:only-of-type {\n",
              "        vertical-align: middle;\n",
              "    }\n",
              "\n",
              "    .dataframe tbody tr th {\n",
              "        vertical-align: top;\n",
              "    }\n",
              "\n",
              "    .dataframe thead th {\n",
              "        text-align: right;\n",
              "    }\n",
              "</style>\n",
              "<table border=\"1\" class=\"dataframe\">\n",
              "  <thead>\n",
              "    <tr style=\"text-align: right;\">\n",
              "      <th></th>\n",
              "      <th>high_GPA</th>\n",
              "      <th>math_SAT</th>\n",
              "      <th>verb_SAT</th>\n",
              "      <th>comp_GPA</th>\n",
              "      <th>univ_GPA</th>\n",
              "    </tr>\n",
              "  </thead>\n",
              "  <tbody>\n",
              "    <tr>\n",
              "      <th>0</th>\n",
              "      <td>3.45</td>\n",
              "      <td>643</td>\n",
              "      <td>589</td>\n",
              "      <td>3.76</td>\n",
              "      <td>3.52</td>\n",
              "    </tr>\n",
              "    <tr>\n",
              "      <th>1</th>\n",
              "      <td>2.78</td>\n",
              "      <td>558</td>\n",
              "      <td>512</td>\n",
              "      <td>2.87</td>\n",
              "      <td>2.91</td>\n",
              "    </tr>\n",
              "    <tr>\n",
              "      <th>2</th>\n",
              "      <td>2.52</td>\n",
              "      <td>583</td>\n",
              "      <td>503</td>\n",
              "      <td>2.54</td>\n",
              "      <td>2.40</td>\n",
              "    </tr>\n",
              "    <tr>\n",
              "      <th>3</th>\n",
              "      <td>3.67</td>\n",
              "      <td>685</td>\n",
              "      <td>602</td>\n",
              "      <td>3.83</td>\n",
              "      <td>3.47</td>\n",
              "    </tr>\n",
              "    <tr>\n",
              "      <th>4</th>\n",
              "      <td>3.24</td>\n",
              "      <td>592</td>\n",
              "      <td>538</td>\n",
              "      <td>3.29</td>\n",
              "      <td>3.47</td>\n",
              "    </tr>\n",
              "  </tbody>\n",
              "</table>\n",
              "</div>\n",
              "    <div class=\"colab-df-buttons\">\n",
              "\n",
              "  <div class=\"colab-df-container\">\n",
              "    <button class=\"colab-df-convert\" onclick=\"convertToInteractive('df-9d0507f9-f75a-4d69-ae17-1c4f0906db86')\"\n",
              "            title=\"Convert this dataframe to an interactive table.\"\n",
              "            style=\"display:none;\">\n",
              "\n",
              "  <svg xmlns=\"http://www.w3.org/2000/svg\" height=\"24px\" viewBox=\"0 -960 960 960\">\n",
              "    <path d=\"M120-120v-720h720v720H120Zm60-500h600v-160H180v160Zm220 220h160v-160H400v160Zm0 220h160v-160H400v160ZM180-400h160v-160H180v160Zm440 0h160v-160H620v160ZM180-180h160v-160H180v160Zm440 0h160v-160H620v160Z\"/>\n",
              "  </svg>\n",
              "    </button>\n",
              "\n",
              "  <style>\n",
              "    .colab-df-container {\n",
              "      display:flex;\n",
              "      gap: 12px;\n",
              "    }\n",
              "\n",
              "    .colab-df-convert {\n",
              "      background-color: #E8F0FE;\n",
              "      border: none;\n",
              "      border-radius: 50%;\n",
              "      cursor: pointer;\n",
              "      display: none;\n",
              "      fill: #1967D2;\n",
              "      height: 32px;\n",
              "      padding: 0 0 0 0;\n",
              "      width: 32px;\n",
              "    }\n",
              "\n",
              "    .colab-df-convert:hover {\n",
              "      background-color: #E2EBFA;\n",
              "      box-shadow: 0px 1px 2px rgba(60, 64, 67, 0.3), 0px 1px 3px 1px rgba(60, 64, 67, 0.15);\n",
              "      fill: #174EA6;\n",
              "    }\n",
              "\n",
              "    .colab-df-buttons div {\n",
              "      margin-bottom: 4px;\n",
              "    }\n",
              "\n",
              "    [theme=dark] .colab-df-convert {\n",
              "      background-color: #3B4455;\n",
              "      fill: #D2E3FC;\n",
              "    }\n",
              "\n",
              "    [theme=dark] .colab-df-convert:hover {\n",
              "      background-color: #434B5C;\n",
              "      box-shadow: 0px 1px 3px 1px rgba(0, 0, 0, 0.15);\n",
              "      filter: drop-shadow(0px 1px 2px rgba(0, 0, 0, 0.3));\n",
              "      fill: #FFFFFF;\n",
              "    }\n",
              "  </style>\n",
              "\n",
              "    <script>\n",
              "      const buttonEl =\n",
              "        document.querySelector('#df-9d0507f9-f75a-4d69-ae17-1c4f0906db86 button.colab-df-convert');\n",
              "      buttonEl.style.display =\n",
              "        google.colab.kernel.accessAllowed ? 'block' : 'none';\n",
              "\n",
              "      async function convertToInteractive(key) {\n",
              "        const element = document.querySelector('#df-9d0507f9-f75a-4d69-ae17-1c4f0906db86');\n",
              "        const dataTable =\n",
              "          await google.colab.kernel.invokeFunction('convertToInteractive',\n",
              "                                                    [key], {});\n",
              "        if (!dataTable) return;\n",
              "\n",
              "        const docLinkHtml = 'Like what you see? Visit the ' +\n",
              "          '<a target=\"_blank\" href=https://colab.research.google.com/notebooks/data_table.ipynb>data table notebook</a>'\n",
              "          + ' to learn more about interactive tables.';\n",
              "        element.innerHTML = '';\n",
              "        dataTable['output_type'] = 'display_data';\n",
              "        await google.colab.output.renderOutput(dataTable, element);\n",
              "        const docLink = document.createElement('div');\n",
              "        docLink.innerHTML = docLinkHtml;\n",
              "        element.appendChild(docLink);\n",
              "      }\n",
              "    </script>\n",
              "  </div>\n",
              "\n",
              "\n",
              "<div id=\"df-8f735b38-cf2b-41c0-b0a3-cbcdd70db39e\">\n",
              "  <button class=\"colab-df-quickchart\" onclick=\"quickchart('df-8f735b38-cf2b-41c0-b0a3-cbcdd70db39e')\"\n",
              "            title=\"Suggest charts\"\n",
              "            style=\"display:none;\">\n",
              "\n",
              "<svg xmlns=\"http://www.w3.org/2000/svg\" height=\"24px\"viewBox=\"0 0 24 24\"\n",
              "     width=\"24px\">\n",
              "    <g>\n",
              "        <path d=\"M19 3H5c-1.1 0-2 .9-2 2v14c0 1.1.9 2 2 2h14c1.1 0 2-.9 2-2V5c0-1.1-.9-2-2-2zM9 17H7v-7h2v7zm4 0h-2V7h2v10zm4 0h-2v-4h2v4z\"/>\n",
              "    </g>\n",
              "</svg>\n",
              "  </button>\n",
              "\n",
              "<style>\n",
              "  .colab-df-quickchart {\n",
              "      --bg-color: #E8F0FE;\n",
              "      --fill-color: #1967D2;\n",
              "      --hover-bg-color: #E2EBFA;\n",
              "      --hover-fill-color: #174EA6;\n",
              "      --disabled-fill-color: #AAA;\n",
              "      --disabled-bg-color: #DDD;\n",
              "  }\n",
              "\n",
              "  [theme=dark] .colab-df-quickchart {\n",
              "      --bg-color: #3B4455;\n",
              "      --fill-color: #D2E3FC;\n",
              "      --hover-bg-color: #434B5C;\n",
              "      --hover-fill-color: #FFFFFF;\n",
              "      --disabled-bg-color: #3B4455;\n",
              "      --disabled-fill-color: #666;\n",
              "  }\n",
              "\n",
              "  .colab-df-quickchart {\n",
              "    background-color: var(--bg-color);\n",
              "    border: none;\n",
              "    border-radius: 50%;\n",
              "    cursor: pointer;\n",
              "    display: none;\n",
              "    fill: var(--fill-color);\n",
              "    height: 32px;\n",
              "    padding: 0;\n",
              "    width: 32px;\n",
              "  }\n",
              "\n",
              "  .colab-df-quickchart:hover {\n",
              "    background-color: var(--hover-bg-color);\n",
              "    box-shadow: 0 1px 2px rgba(60, 64, 67, 0.3), 0 1px 3px 1px rgba(60, 64, 67, 0.15);\n",
              "    fill: var(--button-hover-fill-color);\n",
              "  }\n",
              "\n",
              "  .colab-df-quickchart-complete:disabled,\n",
              "  .colab-df-quickchart-complete:disabled:hover {\n",
              "    background-color: var(--disabled-bg-color);\n",
              "    fill: var(--disabled-fill-color);\n",
              "    box-shadow: none;\n",
              "  }\n",
              "\n",
              "  .colab-df-spinner {\n",
              "    border: 2px solid var(--fill-color);\n",
              "    border-color: transparent;\n",
              "    border-bottom-color: var(--fill-color);\n",
              "    animation:\n",
              "      spin 1s steps(1) infinite;\n",
              "  }\n",
              "\n",
              "  @keyframes spin {\n",
              "    0% {\n",
              "      border-color: transparent;\n",
              "      border-bottom-color: var(--fill-color);\n",
              "      border-left-color: var(--fill-color);\n",
              "    }\n",
              "    20% {\n",
              "      border-color: transparent;\n",
              "      border-left-color: var(--fill-color);\n",
              "      border-top-color: var(--fill-color);\n",
              "    }\n",
              "    30% {\n",
              "      border-color: transparent;\n",
              "      border-left-color: var(--fill-color);\n",
              "      border-top-color: var(--fill-color);\n",
              "      border-right-color: var(--fill-color);\n",
              "    }\n",
              "    40% {\n",
              "      border-color: transparent;\n",
              "      border-right-color: var(--fill-color);\n",
              "      border-top-color: var(--fill-color);\n",
              "    }\n",
              "    60% {\n",
              "      border-color: transparent;\n",
              "      border-right-color: var(--fill-color);\n",
              "    }\n",
              "    80% {\n",
              "      border-color: transparent;\n",
              "      border-right-color: var(--fill-color);\n",
              "      border-bottom-color: var(--fill-color);\n",
              "    }\n",
              "    90% {\n",
              "      border-color: transparent;\n",
              "      border-bottom-color: var(--fill-color);\n",
              "    }\n",
              "  }\n",
              "</style>\n",
              "\n",
              "  <script>\n",
              "    async function quickchart(key) {\n",
              "      const quickchartButtonEl =\n",
              "        document.querySelector('#' + key + ' button');\n",
              "      quickchartButtonEl.disabled = true;  // To prevent multiple clicks.\n",
              "      quickchartButtonEl.classList.add('colab-df-spinner');\n",
              "      try {\n",
              "        const charts = await google.colab.kernel.invokeFunction(\n",
              "            'suggestCharts', [key], {});\n",
              "      } catch (error) {\n",
              "        console.error('Error during call to suggestCharts:', error);\n",
              "      }\n",
              "      quickchartButtonEl.classList.remove('colab-df-spinner');\n",
              "      quickchartButtonEl.classList.add('colab-df-quickchart-complete');\n",
              "    }\n",
              "    (() => {\n",
              "      let quickchartButtonEl =\n",
              "        document.querySelector('#df-8f735b38-cf2b-41c0-b0a3-cbcdd70db39e button');\n",
              "      quickchartButtonEl.style.display =\n",
              "        google.colab.kernel.accessAllowed ? 'block' : 'none';\n",
              "    })();\n",
              "  </script>\n",
              "</div>\n",
              "    </div>\n",
              "  </div>\n"
            ],
            "application/vnd.google.colaboratory.intrinsic+json": {
              "type": "dataframe",
              "variable_name": "sat",
              "summary": "{\n  \"name\": \"sat\",\n  \"rows\": 105,\n  \"fields\": [\n    {\n      \"column\": \"high_GPA\",\n      \"properties\": {\n        \"dtype\": \"number\",\n        \"std\": 0.5165978271521426,\n        \"min\": 2.03,\n        \"max\": 4.0,\n        \"num_unique_values\": 75,\n        \"samples\": [\n          3.24,\n          3.9,\n          3.48\n        ],\n        \"semantic_type\": \"\",\n        \"description\": \"\"\n      }\n    },\n    {\n      \"column\": \"math_SAT\",\n      \"properties\": {\n        \"dtype\": \"number\",\n        \"std\": 53,\n        \"min\": 516,\n        \"max\": 718,\n        \"num_unique_values\": 59,\n        \"samples\": [\n          643,\n          562,\n          560\n        ],\n        \"semantic_type\": \"\",\n        \"description\": \"\"\n      }\n    },\n    {\n      \"column\": \"verb_SAT\",\n      \"properties\": {\n        \"dtype\": \"number\",\n        \"std\": 62,\n        \"min\": 480,\n        \"max\": 732,\n        \"num_unique_values\": 67,\n        \"samples\": [\n          542,\n          684,\n          538\n        ],\n        \"semantic_type\": \"\",\n        \"description\": \"\"\n      }\n    },\n    {\n      \"column\": \"comp_GPA\",\n      \"properties\": {\n        \"dtype\": \"number\",\n        \"std\": 0.5090458646405963,\n        \"min\": 2.03,\n        \"max\": 4.0,\n        \"num_unique_values\": 67,\n        \"samples\": [\n          2.38,\n          2.14,\n          3.29\n        ],\n        \"semantic_type\": \"\",\n        \"description\": \"\"\n      }\n    },\n    {\n      \"column\": \"univ_GPA\",\n      \"properties\": {\n        \"dtype\": \"number\",\n        \"std\": 0.4471936301616369,\n        \"min\": 2.08,\n        \"max\": 3.81,\n        \"num_unique_values\": 59,\n        \"samples\": [\n          3.52,\n          2.24,\n          3.39\n        ],\n        \"semantic_type\": \"\",\n        \"description\": \"\"\n      }\n    }\n  ]\n}"
            }
          },
          "metadata": {},
          "execution_count": 2
        }
      ]
    },
    {
      "cell_type": "markdown",
      "metadata": {
        "id": "LSO52jY3o8wx"
      },
      "source": [
        "Dividimos  aleatoriamente el conjunto de datos en 80% para entrenamiento y 20% para validación\n"
      ]
    },
    {
      "cell_type": "code",
      "metadata": {
        "id": "kRWpAdTsm5Nv"
      },
      "source": [
        "n_ejemplos = sat.shape[0]\n",
        "permutacion = np.random.permutation(n_ejemplos)\n",
        "\n",
        "conj_ent = permutacion[:int(n_ejemplos * 0.8)]\n",
        "conj_val = permutacion[int(n_ejemplos * 0.8):]\n",
        "\n",
        "n_ent = conj_ent.shape[0]\n",
        "n_val = conj_val.shape[0]"
      ],
      "execution_count": 3,
      "outputs": []
    },
    {
      "cell_type": "markdown",
      "metadata": {
        "id": "me8AyAlWo_sc"
      },
      "source": [
        "Usa sólo el atributo Computer Science GPA (columna `comp_GPA`) como regresor para el University GPA (columna `univ_GPA`)\n"
      ]
    },
    {
      "cell_type": "code",
      "metadata": {
        "id": "MpMSE_iinIYL"
      },
      "source": [
        "X_ent = sat.comp_GPA[conj_ent].to_numpy()\n",
        "y_ent = sat.univ_GPA[conj_ent].to_numpy()\n",
        "X_ent = X_ent[:, np.newaxis]\n",
        "y_ent = y_ent[:, np.newaxis]\n",
        "\n",
        "X_val = sat.comp_GPA[conj_val].to_numpy()\n",
        "y_val = sat.univ_GPA[conj_val].to_numpy()\n",
        "X_val = X_val[:, np.newaxis]\n",
        "y_val = y_val[:, np.newaxis]\n",
        "\n",
        "X_rango = np.arange(2.0, 4.0, 0.01)\n",
        "X_rango = X_rango[:, np.newaxis]"
      ],
      "execution_count": 4,
      "outputs": []
    },
    {
      "cell_type": "markdown",
      "source": [
        "Escalamos los valores del atributo usando estandarización:\n",
        "\n",
        "$$\n",
        "x' = \\frac{x - \\mu}{\\sigma}\n",
        "$$"
      ],
      "metadata": {
        "id": "qiZZO7yYL6JE"
      }
    },
    {
      "cell_type": "code",
      "source": [
        "mu = X_ent.mean()\n",
        "sigma = X_ent.std()\n",
        "\n",
        "X_ent = (X_ent - mu) / sigma\n",
        "X_val = (X_val - mu) / sigma\n",
        "X_rango = (X_rango - mu) / sigma"
      ],
      "metadata": {
        "id": "BVtHYBdRMLPD"
      },
      "execution_count": 5,
      "outputs": []
    },
    {
      "cell_type": "markdown",
      "metadata": {
        "id": "oSh6hUDp750W"
      },
      "source": [
        "Creamos matriz de diseño, agregando un 1 a cada entrada del conjunto de entrenamiento y validación:\n",
        "\n",
        "$$\n",
        "X' =\n",
        "\\begin{pmatrix}\n",
        "1 & x_{1} \\\\\n",
        "1 & x_{2} \\\\\n",
        "\\vdots  & \\vdots \\\\\n",
        "1 & x_{n}\n",
        "\\end{pmatrix}\n",
        "$$"
      ]
    },
    {
      "cell_type": "code",
      "metadata": {
        "id": "dh2A_qDx7sPw"
      },
      "source": [
        "ones_ent = np.ones((X_ent.shape[0], 1))\n",
        "Xp_ent = np.concatenate((ones_ent, X_ent), axis = 1)\n",
        "\n",
        "ones_val = np.ones((X_val.shape[0], 1))\n",
        "Xp_val = np.concatenate((ones_val, X_val), axis = 1)\n",
        "\n",
        "ones_rango = np.ones((X_rango.shape[0], 1))\n",
        "Xp_rango = np.concatenate((ones_rango, X_rango), axis = 1)"
      ],
      "execution_count": 6,
      "outputs": []
    },
    {
      "cell_type": "markdown",
      "metadata": {
        "id": "BpZjLmxE0nF1"
      },
      "source": [
        "Suponemos modelo lineal con un solo atributo, esto es,\n",
        "\n",
        "$$\n",
        "f_{\\boldsymbol{\\theta}}(\\mathbf{x}') = \\boldsymbol{\\theta}^\\top \\mathbf{x}',\n",
        "$$\n",
        "\n",
        "donde $\\boldsymbol{\\theta}$ y $\\mathbf{x}'$ son vectores columna."
      ]
    },
    {
      "cell_type": "code",
      "metadata": {
        "id": "q_cFM-o_rMiZ"
      },
      "source": [
        "f = lambda Xp, theta: Xp @ theta"
      ],
      "execution_count": 7,
      "outputs": []
    },
    {
      "cell_type": "markdown",
      "metadata": {
        "id": "E58J-E6Y17Nc"
      },
      "source": [
        "Definimos la métrica de error cuadrático medio:\n",
        "\n",
        "$$\n",
        "ECM(\\hat{\\mathbf{y}}, \\mathbf{y}) = \\frac{1}{n}\\sum_{i=1}^n \\left(\\hat{y}^{(i)} - y^{(i)}\\right)^2\n",
        "$$"
      ]
    },
    {
      "cell_type": "code",
      "metadata": {
        "id": "PExv4urB3CCN"
      },
      "source": [
        "ecm = lambda y, y_hat: ((y - y_hat)**2).mean()"
      ],
      "execution_count": 8,
      "outputs": []
    },
    {
      "cell_type": "markdown",
      "source": [
        "## Descenso por gradiente\n",
        "Vamos a entrenar un modelo de regresión lineal usando descenso por gradiente. En particular, buscaremos minimizar la suma de errores cuadráticos, la cual definimos de la siguiente manera:\n",
        "$$\n",
        "E(\\mathbf{y}, \\hat{\\mathbf{y}}) = \\frac{1}{2} \\sum_{i = 1} ^n \\left(\\hat{y^{(i)}} - y^{(i)}\\right)^2\n",
        "$$\n",
        "\n",
        "El gradiente de esta función de pérdida respecto a los parámetros $\\boldsymbol{\\theta} \\in \\mathbb{R}^d$ está dado por\n",
        "\n",
        "$$\n",
        "\\nabla E(\\mathbf{y}, \\hat{\\mathbf{y}}) = \\left[\\frac{\\partial E(\\mathbf{y}, \\hat{\\mathbf{y}})}{\\partial \\theta_0}, \\frac{\\partial E(\\mathbf{y}, \\hat{\\mathbf{y}})}{\\partial \\theta_1}, \\cdots, \\frac{\\partial E(\\mathbf{y}, \\hat{\\mathbf{y}})}{\\partial \\theta_d}\\right]\n",
        "$$\n",
        "\n",
        "donde\n",
        "\n",
        "$$\n",
        "\\frac{\\partial E(\\mathbf{y}, \\hat{\\mathbf{y}})}{\\partial \\theta_j} = \\sum_{i=1}^n \\left[ \\left(\\hat{y^{(i)}} - y^{(i)}\\right) \\cdot x_j^{(i)} \\right]\n",
        "$$"
      ],
      "metadata": {
        "id": "Hqvfk27k2qo5"
      }
    },
    {
      "cell_type": "code",
      "metadata": {
        "id": "TkB1VsP4Wfpo"
      },
      "source": [
        "def gradiente(X, y, y_pred):\n",
        "  return X.T @ (y_pred - y)"
      ],
      "execution_count": 9,
      "outputs": []
    },
    {
      "cell_type": "markdown",
      "source": [
        "El algoritmo del descenso por gradiente quedaría como sigue:"
      ],
      "metadata": {
        "id": "GF-uffEPnOOu"
      }
    },
    {
      "cell_type": "code",
      "metadata": {
        "id": "ESSXTMPeWnOy"
      },
      "source": [
        "def descenso_gradiente(X, y, n_iter = 10, alfa = 0.001):\n",
        "  # Inicializamos parámetro con número aleatorio\n",
        "  param = np.random.rand(X.shape[1], 1)\n",
        "\n",
        "  hist_error = np.zeros(n_iter)\n",
        "  for it in range(n_iter):\n",
        "    # Obtenemos predicciones con parámetro actual\n",
        "    y_pred =  f(X, param)\n",
        "\n",
        "    # Actualizamos parámetro\n",
        "    param = param - alfa * gradiente(X, y, y_pred)\n",
        "\n",
        "    hist_error[it] = ecm(y, y_pred)\n",
        "\n",
        "  return param, hist_error"
      ],
      "execution_count": 10,
      "outputs": []
    },
    {
      "cell_type": "markdown",
      "metadata": {
        "id": "-GC963unVL3A"
      },
      "source": [
        "## Entrenamiento\n",
        "Entrenamos nuestro modelo de regresión lineal con este algoritmo por 1000 iteraciones con una tasa de aprendizaje de 0.001:"
      ]
    },
    {
      "cell_type": "code",
      "metadata": {
        "id": "zJsvVkse_Zfq"
      },
      "source": [
        "alfa = 0.001\n",
        "n_iter = 50\n",
        "param_dg, errores = descenso_gradiente(Xp_ent,\n",
        "                                       y_ent,\n",
        "                                       n_iter = n_iter,\n",
        "                                       alfa = alfa)"
      ],
      "execution_count": 11,
      "outputs": []
    },
    {
      "cell_type": "markdown",
      "source": [
        "Graficamos el error cuadrático medio en cada iteración:"
      ],
      "metadata": {
        "id": "ZJH_IG7bniU-"
      }
    },
    {
      "cell_type": "code",
      "source": [
        "plt.plot(errores)\n",
        "plt.xlabel(u'Iteración')\n",
        "plt.ylabel(u'Error cuadrático medio')\n",
        "plt.show()"
      ],
      "metadata": {
        "colab": {
          "base_uri": "https://localhost:8080/",
          "height": 449
        },
        "id": "fxBkOPsOCTrS",
        "outputId": "9a6327e6-7937-4a70-9512-fbe53df848ca"
      },
      "execution_count": 12,
      "outputs": [
        {
          "output_type": "display_data",
          "data": {
            "text/plain": [
              "<Figure size 640x480 with 1 Axes>"
            ],
            "image/png": "[encoded data removed]"
          },
          "metadata": {}
        }
      ]
    },
    {
      "cell_type": "markdown",
      "source": [
        "## Descenso por gradiente estocástico"
      ],
      "metadata": {
        "id": "lf2-KZgi8Ag3"
      }
    },
    {
      "cell_type": "code",
      "source": [
        "def descenso_gradiente_estocastico(X, y, t_lote = 8, n_iter = 10, alfa = 0.001):\n",
        "  # Inicializamos parámetro con número aleatorio\n",
        "  param = np.random.rand(X.shape[1], 1)\n",
        "\n",
        "  n_lotes = int(X.shape[0] / t_lote)\n",
        "  hist_error = []\n",
        "  for it in range(n_iter):\n",
        "    # Permutación aleatoria con la que se tomarán los lotes de la iteración\n",
        "    perm = np.random.permutation(X.shape[0])\n",
        "    for l in range(n_lotes):\n",
        "      # Se toma el lote l-ésimo\n",
        "      Xlote = X[perm[l * t_lote:(l + 1) * t_lote]]\n",
        "      ylote = y[perm[l * t_lote:(l + 1) * t_lote]]\n",
        "\n",
        "      # Obtenemos predicciones con parámetro actual\n",
        "      y_pred = f(Xlote, param)\n",
        "\n",
        "      # Actualizamos parámetro\n",
        "      param = param - alfa * gradiente(Xlote, ylote, y_pred)\n",
        "\n",
        "      hist_error.append(ecm(ylote, y_pred))\n",
        "\n",
        "  return param, np.array(hist_error)"
      ],
      "metadata": {
        "id": "3Ef96ECO8HqU"
      },
      "execution_count": 13,
      "outputs": []
    },
    {
      "cell_type": "code",
      "source": [
        "t_lote = 8\n",
        "param_dge, errores = descenso_gradiente_estocastico(Xp_ent,\n",
        "                                                    y_ent,\n",
        "                                                    t_lote = t_lote,\n",
        "                                                    n_iter = n_iter,\n",
        "                                                    alfa = alfa)"
      ],
      "metadata": {
        "id": "As0ysIAt-PeD"
      },
      "execution_count": 14,
      "outputs": []
    },
    {
      "cell_type": "code",
      "source": [
        "n_lotes = int(Xp_ent.shape[0] / t_lote)\n",
        "\n",
        "plt.plot(errores.flatten(), label=u'Por lote')\n",
        "plt.xlabel(u'Lote')\n",
        "plt.ylabel(u'ECM')\n",
        "plt.legend()\n",
        "plt.show()"
      ],
      "metadata": {
        "colab": {
          "base_uri": "https://localhost:8080/",
          "height": 449
        },
        "id": "TekddNqlCOI6",
        "outputId": "9b6705ad-a966-43d9-f48f-753559be702f"
      },
      "execution_count": 15,
      "outputs": [
        {
          "output_type": "display_data",
          "data": {
            "text/plain": [
              "<Figure size 640x480 with 1 Axes>"
            ],
            "image/png": "[encoded data removed]"
          },
          "metadata": {}
        }
      ]
    },
    {
      "cell_type": "markdown",
      "source": [
        "## Comparación con mínimos cuadrados"
      ],
      "metadata": {
        "id": "U0aWLVyiPIcv"
      }
    },
    {
      "cell_type": "markdown",
      "source": [
        "Comparamos los parámetros encontrados por mínimos cuadrados y usando el algoritmo del descenso por gradiente"
      ],
      "metadata": {
        "id": "iM-9e5s2nlnH"
      }
    },
    {
      "cell_type": "code",
      "source": [
        "param_mc = np.linalg.inv(Xp_ent.T @ Xp_ent) @ (Xp_ent.T @ y_ent)\n",
        "\n",
        "print(f'MC = {param_mc.T}')\n",
        "print(f'DG = {param_dg.T}')\n",
        "print(f'DG = {param_dge.T}')"
      ],
      "metadata": {
        "colab": {
          "base_uri": "https://localhost:8080/"
        },
        "id": "2TtNJ6a8C5Ga",
        "outputId": "0ac36e91-ac87-412f-e701-5646a516ecf8"
      },
      "execution_count": 16,
      "outputs": [
        {
          "output_type": "stream",
          "name": "stdout",
          "text": [
            "MC = [[3.15678571 0.44021645]]\n",
            "DG = [[3.11999286 0.44358889]]\n",
            "DG = [[3.1151567  0.44293147]]\n"
          ]
        }
      ]
    },
    {
      "cell_type": "markdown",
      "source": [
        "Visualizamos las rectas con ambas soluciones"
      ],
      "metadata": {
        "id": "rAMia4Ptnszm"
      }
    },
    {
      "cell_type": "code",
      "source": [
        "y_rango_dg = f(Xp_rango, param_dg)\n",
        "y_rango_dge = f(Xp_rango, param_dge)\n",
        "y_rango_mc = f(Xp_rango, param_mc)\n",
        "\n",
        "plt.plot(Xp_ent[:, 1] * sigma + mu, y_ent[:, 0], 'ro')\n",
        "plt.plot(Xp_rango[:, 1] * sigma + mu, y_rango_mc[:, 0], 'g', label='Mínimos cuadrados')\n",
        "plt.plot(Xp_rango[:, 1] * sigma + mu, y_rango_dg[:, 0], 'b', label='Descenso por gradiente')\n",
        "plt.plot(Xp_rango[:, 1] * sigma + mu, y_rango_dge[:, 0], 'k--', label='Descenso por gradiente estocástico')\n",
        "plt.legend()\n",
        "plt.show()"
      ],
      "metadata": {
        "colab": {
          "base_uri": "https://localhost:8080/",
          "height": 430
        },
        "id": "OEizSy1Y8Mhn",
        "outputId": "173e97b2-d573-4526-9019-22095cb0e02d"
      },
      "execution_count": 17,
      "outputs": [
        {
          "output_type": "display_data",
          "data": {
            "text/plain": [
              "<Figure size 640x480 with 1 Axes>"
            ],
            "image/png": "[encoded data removed]"
          },
          "metadata": {}
        }
      ]
    },
    {
      "cell_type": "markdown",
      "source": [
        "## Ejercicio\n",
        "+ Programa y evalúa el algoritmo del descenso por gradiente para regresión lineal que minimice la siguiente función de error:\n",
        "\n",
        "$$\n",
        "E(\\mathbf{y}, \\hat{\\mathbf{y}}) = \\frac{1}{2\\cdot n} \\sum_{i = 1} ^n \\left(\\hat{y}^{(i)} - y^{(i)}\\right)^2\n",
        "$$"
      ],
      "metadata": {
        "id": "LFnBPHTxosGW"
      }
    }
  ]
}