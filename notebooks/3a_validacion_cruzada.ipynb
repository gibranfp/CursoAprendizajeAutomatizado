{
  "cells": [
    {
      "cell_type": "markdown",
      "metadata": {
        "id": "view-in-github",
        "colab_type": "text"
      },
      "source": [
        "<a href=\"https://colab.research.google.com/github/gibranfp/CursoAprendizajeAutomatizado/blob/2024-2/notebooks/3a_validacion_cruzada.ipynb\" target=\"_parent\"><img src=\"https://colab.research.google.com/assets/colab-badge.svg\" alt=\"Open In Colab\"/></a>"
      ]
    },
    {
      "cell_type": "markdown",
      "metadata": {
        "id": "yB9djrqiGwZD"
      },
      "source": [
        "# Selección de modelos\n",
        "En esta libreta evaluaremos modelos de clasificación usando valación cruzada."
      ]
    },
    {
      "cell_type": "code",
      "execution_count": 1,
      "metadata": {
        "id": "hw0H2TId4AOt"
      },
      "outputs": [],
      "source": [
        "import numpy as np\n",
        "import pandas as pd\n",
        "import matplotlib.pyplot as plt\n",
        "\n",
        "from sklearn.linear_model import SGDClassifier\n",
        "\n",
        "from sklearn.feature_extraction.text import TfidfVectorizer\n",
        "from sklearn.datasets import fetch_20newsgroups\n",
        "\n",
        "from sklearn.model_selection import train_test_split\n",
        "from sklearn.preprocessing import StandardScaler\n",
        "from sklearn.impute import SimpleImputer\n",
        "\n",
        "from sklearn.metrics import average_precision_score, accuracy_score\n",
        "from sklearn.metrics import precision_score, recall_score, f1_score\n",
        "from sklearn.metrics import precision_recall_curve, auc\n",
        "from sklearn.metrics import PrecisionRecallDisplay\n",
        "\n",
        "np.random.seed(42)"
      ]
    },
    {
      "cell_type": "markdown",
      "metadata": {
        "id": "E0tR0TtXD8Yw"
      },
      "source": [
        "## Validación cruzada\n",
        "Definimos la función para realizar validación cruzada de $K$ particiones."
      ]
    },
    {
      "cell_type": "code",
      "execution_count": 2,
      "metadata": {
        "id": "PYa4NG5Z5Ltm"
      },
      "outputs": [],
      "source": [
        "def vc_kpart(X, y, k = 5):\n",
        "  n = X.shape[0]\n",
        "  t_pliegue = int(n / k)\n",
        "  for i in range(k):\n",
        "    masc_val = np.zeros(n, dtype=bool)\n",
        "    masc_val[t_pliegue * i:t_pliegue * (i + 1)] = True\n",
        "    masc_ent = np.logical_not(masc_val)\n",
        "    X_ent = X[masc_ent]\n",
        "    y_ent = y[masc_ent]\n",
        "    X_val = X[masc_val]\n",
        "    y_val = y[masc_val]\n",
        "\n",
        "    yield i, X_ent, y_ent, X_val, y_val"
      ]
    },
    {
      "cell_type": "markdown",
      "metadata": {
        "id": "8tBxJxCpBz_h"
      },
      "source": [
        "Nota que en la función anterior, para algunos valores de K no se utilizaría una parte del conjunto debido al tamaño del pliegue requerido.\n",
        "\n",
        "Creamos un pequeño conjunto de datos para probar nuestra función."
      ]
    },
    {
      "cell_type": "code",
      "execution_count": 3,
      "metadata": {
        "colab": {
          "base_uri": "https://localhost:8080/"
        },
        "id": "3X0W27954AUY",
        "outputId": "4e8dda62-0960-495c-b8ea-e478a4e2265f"
      },
      "outputs": [
        {
          "output_type": "stream",
          "name": "stdout",
          "text": [
            "[ 1  2  3  4  5  6  7  8  9 10] [ -1  -2  -3  -4  -5  -6  -7  -8  -9 -10]\n"
          ]
        }
      ],
      "source": [
        "Xs = np.array(range(1, 11))\n",
        "ys = -np.array(range(1, 11))\n",
        "print(Xs, ys)"
      ]
    },
    {
      "cell_type": "markdown",
      "metadata": {
        "id": "duvqk-c3B7Lx"
      },
      "source": [
        "Realizamos validación cruzada de K particiones de este conjunto usando la función que definimos anteriormente."
      ]
    },
    {
      "cell_type": "code",
      "execution_count": 4,
      "metadata": {
        "colab": {
          "base_uri": "https://localhost:8080/"
        },
        "id": "jtux7DZk4ItU",
        "outputId": "8e80234d-ca76-49c7-ce54-36fb0f591582"
      },
      "outputs": [
        {
          "output_type": "stream",
          "name": "stdout",
          "text": [
            "0: Xent = [ 3  4  5  6  7  8  9 10] yent = [ -3  -4  -5  -6  -7  -8  -9 -10] Xval = [1 2] yval = [-1 -2]\n",
            "1: Xent = [ 1  2  5  6  7  8  9 10] yent = [ -1  -2  -5  -6  -7  -8  -9 -10] Xval = [3 4] yval = [-3 -4]\n",
            "2: Xent = [ 1  2  3  4  7  8  9 10] yent = [ -1  -2  -3  -4  -7  -8  -9 -10] Xval = [5 6] yval = [-5 -6]\n",
            "3: Xent = [ 1  2  3  4  5  6  9 10] yent = [ -1  -2  -3  -4  -5  -6  -9 -10] Xval = [7 8] yval = [-7 -8]\n",
            "4: Xent = [1 2 3 4 5 6 7 8] yent = [-1 -2 -3 -4 -5 -6 -7 -8] Xval = [ 9 10] yval = [ -9 -10]\n"
          ]
        }
      ],
      "source": [
        "for i, Xs_ent, ys_ent, Xs_val, ys_val in vc_kpart(Xs, ys, k=5):\n",
        "  print(f'{i}: Xent = {Xs_ent} yent = {ys_ent} Xval = {Xs_val} yval = {ys_val}')"
      ]
    },
    {
      "cell_type": "markdown",
      "metadata": {
        "id": "Wc7-8lcsHXnE"
      },
      "source": [
        "De forma similar, definimos la función para realizar validación cruzada aleatoria."
      ]
    },
    {
      "cell_type": "code",
      "execution_count": 5,
      "metadata": {
        "id": "QXzxe60P420R"
      },
      "outputs": [],
      "source": [
        "def vc_aleatorio(X, y, r = 10, t_ent=0.8):\n",
        "  n = X.shape[0]\n",
        "  for i in range(r):\n",
        "    perm = np.random.permutation(n)\n",
        "\n",
        "    Xperm = X[perm]\n",
        "    yperm = y[perm]\n",
        "\n",
        "    X_ent = Xperm[:int(n * t_ent)]\n",
        "    y_ent = yperm[:int(n * t_ent)]\n",
        "\n",
        "    X_val = Xperm[int(n * t_ent):]\n",
        "    y_val = yperm[int(n * t_ent):]\n",
        "\n",
        "    yield i, X_ent, y_ent, X_val, y_val"
      ]
    },
    {
      "cell_type": "markdown",
      "metadata": {
        "id": "vuPZEesTTNT3"
      },
      "source": [
        "Probamos esta función con el mismo conjunto."
      ]
    },
    {
      "cell_type": "code",
      "execution_count": 6,
      "metadata": {
        "colab": {
          "base_uri": "https://localhost:8080/"
        },
        "id": "Yw7kbYfCTNAH",
        "outputId": "cd312fec-26b7-4a54-e4e9-18c5b28f8a5a"
      },
      "outputs": [
        {
          "output_type": "stream",
          "name": "stdout",
          "text": [
            "0: Xent = [ 9  2  6  1  8  3 10  5] yent = [ -9  -2  -6  -1  -8  -3 -10  -5] Xval = [4 7] yval = [-4 -7]\n",
            "1: Xent = [ 1  2  9  6  4  5  8 10] yent = [ -1  -2  -9  -6  -4  -5  -8 -10] Xval = [7 3] yval = [-7 -3]\n",
            "2: Xent = [10  3  1  7  9  6  4  8] yent = [-10  -3  -1  -7  -9  -6  -4  -8] Xval = [2 5] yval = [-2 -5]\n",
            "3: Xent = [2 8 7 3 9 1 4 5] yent = [-2 -8 -7 -3 -9 -1 -4 -5] Xval = [ 6 10] yval = [ -6 -10]\n",
            "4: Xent = [2 6 5 9 1 8 7 4] yent = [-2 -6 -5 -9 -1 -8 -7 -4] Xval = [ 3 10] yval = [ -3 -10]\n",
            "5: Xent = [ 9  3  6  8  4  2 10  1] yent = [ -9  -3  -6  -8  -4  -2 -10  -1] Xval = [5 7] yval = [-5 -7]\n",
            "6: Xent = [1 6 3 7 4 8 5 2] yent = [-1 -6 -3 -7 -4 -8 -5 -2] Xval = [ 9 10] yval = [ -9 -10]\n",
            "7: Xent = [ 5  9  2  4  1  6  3 10] yent = [ -5  -9  -2  -4  -1  -6  -3 -10] Xval = [8 7] yval = [-8 -7]\n",
            "8: Xent = [ 3  1  5 10  9  7  8  6] yent = [ -3  -1  -5 -10  -9  -7  -8  -6] Xval = [2 4] yval = [-2 -4]\n",
            "9: Xent = [5 3 8 1 7 4 6 9] yent = [-5 -3 -8 -1 -7 -4 -6 -9] Xval = [10  2] yval = [-10  -2]\n"
          ]
        }
      ],
      "source": [
        "for i, Xs_ent, ys_ent, Xs_val, ys_val in vc_aleatorio(Xs, ys, r=10):\n",
        "  print(f'{i}: Xent = {Xs_ent} yent = {ys_ent} Xval = {Xs_val} yval = {ys_val}')"
      ]
    },
    {
      "cell_type": "markdown",
      "metadata": {
        "id": "kKqC0c7_ugyy"
      },
      "source": [
        "Validación de K particiones con repetición."
      ]
    },
    {
      "cell_type": "code",
      "execution_count": 7,
      "metadata": {
        "id": "ERcbAtTiutZi"
      },
      "outputs": [],
      "source": [
        "def vcrep_kpart(X, y, r=2, k=5):\n",
        "  n = X.shape[0]\n",
        "  t_pliegue = int(n / k)\n",
        "  for i in range(r):\n",
        "    perm = np.random.permutation(n)\n",
        "    Xperm = X[perm]\n",
        "    yperm = y[perm]\n",
        "    for j in range(k):\n",
        "      masc_val = np.zeros(n, dtype=bool)\n",
        "      masc_val[t_pliegue*j:t_pliegue*(j+1)] = True\n",
        "      masc_ent = np.logical_not(masc_val)\n",
        "      X_ent = Xperm[masc_ent]\n",
        "      y_ent = yperm[masc_ent]\n",
        "      X_val = Xperm[masc_val]\n",
        "      y_val = yperm[masc_val]\n",
        "\n",
        "      yield i, j, i * k + j, X_ent, y_ent, X_val, y_val"
      ]
    },
    {
      "cell_type": "markdown",
      "metadata": {
        "id": "iZDam2yQTdVv"
      },
      "source": [
        "Probamos la validación cruzada de K particiones repetida."
      ]
    },
    {
      "cell_type": "code",
      "execution_count": 8,
      "metadata": {
        "colab": {
          "base_uri": "https://localhost:8080/"
        },
        "id": "WRjgzpROTn0u",
        "outputId": "b13416db-f03d-4541-ceca-069a9b2b0a1c"
      },
      "outputs": [
        {
          "output_type": "stream",
          "name": "stdout",
          "text": [
            "0, 0, 0: Xent = [ 8  4  1  9 10  7  2  5] yent = [ -8  -4  -1  -9 -10  -7  -2  -5] Xval = [6 3] yval = [-6 -3]\n",
            "0, 1, 1: Xent = [ 6  3  1  9 10  7  2  5] yent = [ -6  -3  -1  -9 -10  -7  -2  -5] Xval = [8 4] yval = [-8 -4]\n",
            "0, 2, 2: Xent = [ 6  3  8  4 10  7  2  5] yent = [ -6  -3  -8  -4 -10  -7  -2  -5] Xval = [1 9] yval = [-1 -9]\n",
            "0, 3, 3: Xent = [6 3 8 4 1 9 2 5] yent = [-6 -3 -8 -4 -1 -9 -2 -5] Xval = [10  7] yval = [-10  -7]\n",
            "0, 4, 4: Xent = [ 6  3  8  4  1  9 10  7] yent = [ -6  -3  -8  -4  -1  -9 -10  -7] Xval = [2 5] yval = [-2 -5]\n",
            "1, 0, 5: Xent = [ 3  5  4  8 10  7  9  1] yent = [ -3  -5  -4  -8 -10  -7  -9  -1] Xval = [2 6] yval = [-2 -6]\n",
            "1, 1, 6: Xent = [ 2  6  4  8 10  7  9  1] yent = [ -2  -6  -4  -8 -10  -7  -9  -1] Xval = [3 5] yval = [-3 -5]\n",
            "1, 2, 7: Xent = [ 2  6  3  5 10  7  9  1] yent = [ -2  -6  -3  -5 -10  -7  -9  -1] Xval = [4 8] yval = [-4 -8]\n",
            "1, 3, 8: Xent = [2 6 3 5 4 8 9 1] yent = [-2 -6 -3 -5 -4 -8 -9 -1] Xval = [10  7] yval = [-10  -7]\n",
            "1, 4, 9: Xent = [ 2  6  3  5  4  8 10  7] yent = [ -2  -6  -3  -5  -4  -8 -10  -7] Xval = [9 1] yval = [-9 -1]\n"
          ]
        }
      ],
      "source": [
        "for i, j, l, Xs_ent, ys_ent, Xs_val, ys_val in vcrep_kpart(Xs, ys, k=5, r=2):\n",
        "  print(f'{i}, {j}, {l}: Xent = {Xs_ent} yent = {ys_ent} Xval = {Xs_val} yval = {ys_val}')"
      ]
    },
    {
      "cell_type": "markdown",
      "metadata": {
        "id": "dRjtMOh5EJi4"
      },
      "source": [
        "## Curva ROC\n",
        "Para evaluar los modelos de clasificación usaremos el área bajo la curva Receiver Operating Characteristic (ROC), la cual obtenemos de la siguiente manera:"
      ]
    },
    {
      "cell_type": "code",
      "execution_count": 9,
      "metadata": {
        "id": "HNTfICeZ8bP9"
      },
      "outputs": [],
      "source": [
        "def roc(probabilities, y):\n",
        "  # obtenemos los indices de las predicciones ordenadas de menor a mayor probabilidad\n",
        "  orden = np.argsort(probabilities)[::-1]\n",
        "\n",
        "  # ordenamos predicciones y valores reales\n",
        "  porden = probabilities[orden]\n",
        "  yorden = y[orden]\n",
        "\n",
        "  # Nos quedamos únicamente con los índices repetidos\n",
        "  idxs = np.unique(porden, return_index = True)[1][::-1]\n",
        "\n",
        "  rvps = yorden[idxs].cumsum()\n",
        "  rfps = 1.0 + idxs - rvps\n",
        "\n",
        "  n_pos = y.sum()\n",
        "  n_neg = y.shape[0] - n_pos\n",
        "\n",
        "  return rvps / n_pos, rfps / n_neg"
      ]
    },
    {
      "cell_type": "markdown",
      "metadata": {
        "id": "FO18JtRK2_rL"
      },
      "source": [
        "Podemos calcular el áre bajo la curva ROC usando usando la [_fórmula de shoelace_](https://en.wikipedia.org/wiki/Shoelace_formula)."
      ]
    },
    {
      "cell_type": "code",
      "execution_count": 10,
      "metadata": {
        "id": "WTyre6AG29cV"
      },
      "outputs": [],
      "source": [
        "def area_poligono(vertices):\n",
        "  area = 0.0\n",
        "  n_vert = len(vertices)\n",
        "  for i in range(n_vert - 1):\n",
        "    area = area + vertices[i][0] * vertices[i + 1][1]\n",
        "    area = area - vertices[i + 1][0] * vertices[i][1]\n",
        "\n",
        "  area = area + vertices[n_vert - 1][0] * vertices[0][1]\n",
        "  area = area - vertices[0][0] * vertices[n_vert - 1][1]\n",
        "\n",
        "  return 0.5 * abs(area)\n",
        "\n",
        "def compute_aucroc(tfp, tvp):\n",
        "  auc = 0.0\n",
        "  fprev = 0.0\n",
        "  vprev = 0.0\n",
        "  for i,(f,v) in enumerate(zip(tfp, tvp)):\n",
        "    auc += area_poligono([[fprev, 0], [fprev, vprev], [f, v], [f, 0]])\n",
        "    fprev = f\n",
        "    vprev = v\n",
        "\n",
        "  return auc"
      ]
    },
    {
      "cell_type": "markdown",
      "metadata": {
        "id": "iWD_Cyia8nH7"
      },
      "source": [
        "Descargamos el conjunto de datos de [ATLAS Higgs Challenge](http://opendata.cern.ch/record/328).\n",
        "\n",
        "\n",
        "Nota: si tienes problemas con el servidor del CERN, puedes descargar el archivo `training.zip` manualmente de [Kaggle](https://www.kaggle.com/competitions/higgs-boson), extraerlo, renombrar el archivo CSV a `atlas-higgs-challenge-2014-v2.csv` (o modificar la siguiente celda para que lea `training.csv`) y ponerlo en el directorio donde se está ejecutando la libreta (en Colab sería `/content/`)."
      ]
    },
    {
      "cell_type": "code",
      "execution_count": 11,
      "metadata": {
        "colab": {
          "base_uri": "https://localhost:8080/"
        },
        "id": "uM9HzrreYWG7",
        "outputId": "ec7eae5b-da72-4a1f-8485-4f5c652a0096"
      },
      "outputs": [
        {
          "output_type": "stream",
          "name": "stdout",
          "text": [
            "--2024-03-12 00:28:32--  http://opendata.cern.ch/record/328/files/atlas-higgs-challenge-2014-v2.csv.gz\n",
            "Resolving opendata.cern.ch (opendata.cern.ch)... 137.138.6.31, 2001:1458:201:8b::100:1c8\n",
            "Connecting to opendata.cern.ch (opendata.cern.ch)|137.138.6.31|:80... connected.\n",
            "HTTP request sent, awaiting response... 200 OK\n",
            "Length: 65630848 (63M) [application/octet-stream]\n",
            "Saving to: ‘atlas-higgs-challenge-2014-v2.csv.gz’\n",
            "\n",
            "atlas-higgs-challen 100%[===================>]  62.59M   932KB/s    in 65s     \n",
            "\n",
            "2024-03-12 00:29:37 (992 KB/s) - ‘atlas-higgs-challenge-2014-v2.csv.gz’ saved [65630848/65630848]\n",
            "\n"
          ]
        }
      ],
      "source": [
        "!wget http://opendata.cern.ch/record/328/files/atlas-higgs-challenge-2014-v2.csv.gz\n",
        "!gunzip -c atlas-higgs-challenge-2014-v2.csv.gz > atlas-higgs-challenge-2014-v2.csv"
      ]
    },
    {
      "cell_type": "markdown",
      "metadata": {
        "id": "PIhhQOaa1KuU"
      },
      "source": [
        "Leemos el archivo CSV y mostramos los primeros registros."
      ]
    },
    {
      "cell_type": "code",
      "execution_count": 12,
      "metadata": {
        "colab": {
          "base_uri": "https://localhost:8080/",
          "height": 255
        },
        "id": "BKbHjAj69ICt",
        "outputId": "7de6f208-be8a-45e6-c3d8-3318e9c862cc"
      },
      "outputs": [
        {
          "output_type": "execute_result",
          "data": {
            "text/plain": [
              "   EventId  DER_mass_MMC  DER_mass_transverse_met_lep  DER_mass_vis  DER_pt_h  \\\n",
              "0   100000       138.470                       51.655        97.827    27.980   \n",
              "1   100001       160.937                       68.768       103.235    48.146   \n",
              "2   100002           NaN                      162.172       125.953    35.635   \n",
              "3   100003       143.905                       81.417        80.943     0.414   \n",
              "4   100004       175.864                       16.915       134.805    16.405   \n",
              "\n",
              "   DER_deltaeta_jet_jet  DER_mass_jet_jet  DER_prodeta_jet_jet  \\\n",
              "0                  0.91           124.711                2.666   \n",
              "1                   NaN               NaN                  NaN   \n",
              "2                   NaN               NaN                  NaN   \n",
              "3                   NaN               NaN                  NaN   \n",
              "4                   NaN               NaN                  NaN   \n",
              "\n",
              "   DER_deltar_tau_lep  DER_pt_tot  ...  PRI_jet_leading_eta  \\\n",
              "0               3.064      41.928  ...                2.150   \n",
              "1               3.473       2.078  ...                0.725   \n",
              "2               3.148       9.336  ...                2.053   \n",
              "3               3.310       0.414  ...                  NaN   \n",
              "4               3.891      16.405  ...                  NaN   \n",
              "\n",
              "   PRI_jet_leading_phi  PRI_jet_subleading_pt  PRI_jet_subleading_eta  \\\n",
              "0                0.444                 46.062                    1.24   \n",
              "1                1.158                    NaN                     NaN   \n",
              "2               -2.028                    NaN                     NaN   \n",
              "3                  NaN                    NaN                     NaN   \n",
              "4                  NaN                    NaN                     NaN   \n",
              "\n",
              "   PRI_jet_subleading_phi  PRI_jet_all_pt    Weight  Label  KaggleSet  \\\n",
              "0                  -2.475         113.497  0.000814      s          t   \n",
              "1                     NaN          46.226  0.681042      b          t   \n",
              "2                     NaN          44.251  0.715742      b          t   \n",
              "3                     NaN          -0.000  1.660654      b          t   \n",
              "4                     NaN           0.000  1.904263      b          t   \n",
              "\n",
              "   KaggleWeight  \n",
              "0      0.002653  \n",
              "1      2.233584  \n",
              "2      2.347389  \n",
              "3      5.446378  \n",
              "4      6.245333  \n",
              "\n",
              "[5 rows x 35 columns]"
            ],
            "text/html": [
              "\n",
              "  <div id=\"df-7d719a03-7bad-4567-bbbe-6ab63a7ba032\" class=\"colab-df-container\">\n",
              "    <div>\n",
              "<style scoped>\n",
              "    .dataframe tbody tr th:only-of-type {\n",
              "        vertical-align: middle;\n",
              "    }\n",
              "\n",
              "    .dataframe tbody tr th {\n",
              "        vertical-align: top;\n",
              "    }\n",
              "\n",
              "    .dataframe thead th {\n",
              "        text-align: right;\n",
              "    }\n",
              "</style>\n",
              "<table border=\"1\" class=\"dataframe\">\n",
              "  <thead>\n",
              "    <tr style=\"text-align: right;\">\n",
              "      <th></th>\n",
              "      <th>EventId</th>\n",
              "      <th>DER_mass_MMC</th>\n",
              "      <th>DER_mass_transverse_met_lep</th>\n",
              "      <th>DER_mass_vis</th>\n",
              "      <th>DER_pt_h</th>\n",
              "      <th>DER_deltaeta_jet_jet</th>\n",
              "      <th>DER_mass_jet_jet</th>\n",
              "      <th>DER_prodeta_jet_jet</th>\n",
              "      <th>DER_deltar_tau_lep</th>\n",
              "      <th>DER_pt_tot</th>\n",
              "      <th>...</th>\n",
              "      <th>PRI_jet_leading_eta</th>\n",
              "      <th>PRI_jet_leading_phi</th>\n",
              "      <th>PRI_jet_subleading_pt</th>\n",
              "      <th>PRI_jet_subleading_eta</th>\n",
              "      <th>PRI_jet_subleading_phi</th>\n",
              "      <th>PRI_jet_all_pt</th>\n",
              "      <th>Weight</th>\n",
              "      <th>Label</th>\n",
              "      <th>KaggleSet</th>\n",
              "      <th>KaggleWeight</th>\n",
              "    </tr>\n",
              "  </thead>\n",
              "  <tbody>\n",
              "    <tr>\n",
              "      <th>0</th>\n",
              "      <td>100000</td>\n",
              "      <td>138.470</td>\n",
              "      <td>51.655</td>\n",
              "      <td>97.827</td>\n",
              "      <td>27.980</td>\n",
              "      <td>0.91</td>\n",
              "      <td>124.711</td>\n",
              "      <td>2.666</td>\n",
              "      <td>3.064</td>\n",
              "      <td>41.928</td>\n",
              "      <td>...</td>\n",
              "      <td>2.150</td>\n",
              "      <td>0.444</td>\n",
              "      <td>46.062</td>\n",
              "      <td>1.24</td>\n",
              "      <td>-2.475</td>\n",
              "      <td>113.497</td>\n",
              "      <td>0.000814</td>\n",
              "      <td>s</td>\n",
              "      <td>t</td>\n",
              "      <td>0.002653</td>\n",
              "    </tr>\n",
              "    <tr>\n",
              "      <th>1</th>\n",
              "      <td>100001</td>\n",
              "      <td>160.937</td>\n",
              "      <td>68.768</td>\n",
              "      <td>103.235</td>\n",
              "      <td>48.146</td>\n",
              "      <td>NaN</td>\n",
              "      <td>NaN</td>\n",
              "      <td>NaN</td>\n",
              "      <td>3.473</td>\n",
              "      <td>2.078</td>\n",
              "      <td>...</td>\n",
              "      <td>0.725</td>\n",
              "      <td>1.158</td>\n",
              "      <td>NaN</td>\n",
              "      <td>NaN</td>\n",
              "      <td>NaN</td>\n",
              "      <td>46.226</td>\n",
              "      <td>0.681042</td>\n",
              "      <td>b</td>\n",
              "      <td>t</td>\n",
              "      <td>2.233584</td>\n",
              "    </tr>\n",
              "    <tr>\n",
              "      <th>2</th>\n",
              "      <td>100002</td>\n",
              "      <td>NaN</td>\n",
              "      <td>162.172</td>\n",
              "      <td>125.953</td>\n",
              "      <td>35.635</td>\n",
              "      <td>NaN</td>\n",
              "      <td>NaN</td>\n",
              "      <td>NaN</td>\n",
              "      <td>3.148</td>\n",
              "      <td>9.336</td>\n",
              "      <td>...</td>\n",
              "      <td>2.053</td>\n",
              "      <td>-2.028</td>\n",
              "      <td>NaN</td>\n",
              "      <td>NaN</td>\n",
              "      <td>NaN</td>\n",
              "      <td>44.251</td>\n",
              "      <td>0.715742</td>\n",
              "      <td>b</td>\n",
              "      <td>t</td>\n",
              "      <td>2.347389</td>\n",
              "    </tr>\n",
              "    <tr>\n",
              "      <th>3</th>\n",
              "      <td>100003</td>\n",
              "      <td>143.905</td>\n",
              "      <td>81.417</td>\n",
              "      <td>80.943</td>\n",
              "      <td>0.414</td>\n",
              "      <td>NaN</td>\n",
              "      <td>NaN</td>\n",
              "      <td>NaN</td>\n",
              "      <td>3.310</td>\n",
              "      <td>0.414</td>\n",
              "      <td>...</td>\n",
              "      <td>NaN</td>\n",
              "      <td>NaN</td>\n",
              "      <td>NaN</td>\n",
              "      <td>NaN</td>\n",
              "      <td>NaN</td>\n",
              "      <td>-0.000</td>\n",
              "      <td>1.660654</td>\n",
              "      <td>b</td>\n",
              "      <td>t</td>\n",
              "      <td>5.446378</td>\n",
              "    </tr>\n",
              "    <tr>\n",
              "      <th>4</th>\n",
              "      <td>100004</td>\n",
              "      <td>175.864</td>\n",
              "      <td>16.915</td>\n",
              "      <td>134.805</td>\n",
              "      <td>16.405</td>\n",
              "      <td>NaN</td>\n",
              "      <td>NaN</td>\n",
              "      <td>NaN</td>\n",
              "      <td>3.891</td>\n",
              "      <td>16.405</td>\n",
              "      <td>...</td>\n",
              "      <td>NaN</td>\n",
              "      <td>NaN</td>\n",
              "      <td>NaN</td>\n",
              "      <td>NaN</td>\n",
              "      <td>NaN</td>\n",
              "      <td>0.000</td>\n",
              "      <td>1.904263</td>\n",
              "      <td>b</td>\n",
              "      <td>t</td>\n",
              "      <td>6.245333</td>\n",
              "    </tr>\n",
              "  </tbody>\n",
              "</table>\n",
              "<p>5 rows × 35 columns</p>\n",
              "</div>\n",
              "    <div class=\"colab-df-buttons\">\n",
              "\n",
              "  <div class=\"colab-df-container\">\n",
              "    <button class=\"colab-df-convert\" onclick=\"convertToInteractive('df-7d719a03-7bad-4567-bbbe-6ab63a7ba032')\"\n",
              "            title=\"Convert this dataframe to an interactive table.\"\n",
              "            style=\"display:none;\">\n",
              "\n",
              "  <svg xmlns=\"http://www.w3.org/2000/svg\" height=\"24px\" viewBox=\"0 -960 960 960\">\n",
              "    <path d=\"M120-120v-720h720v720H120Zm60-500h600v-160H180v160Zm220 220h160v-160H400v160Zm0 220h160v-160H400v160ZM180-400h160v-160H180v160Zm440 0h160v-160H620v160ZM180-180h160v-160H180v160Zm440 0h160v-160H620v160Z\"/>\n",
              "  </svg>\n",
              "    </button>\n",
              "\n",
              "  <style>\n",
              "    .colab-df-container {\n",
              "      display:flex;\n",
              "      gap: 12px;\n",
              "    }\n",
              "\n",
              "    .colab-df-convert {\n",
              "      background-color: #E8F0FE;\n",
              "      border: none;\n",
              "      border-radius: 50%;\n",
              "      cursor: pointer;\n",
              "      display: none;\n",
              "      fill: #1967D2;\n",
              "      height: 32px;\n",
              "      padding: 0 0 0 0;\n",
              "      width: 32px;\n",
              "    }\n",
              "\n",
              "    .colab-df-convert:hover {\n",
              "      background-color: #E2EBFA;\n",
              "      box-shadow: 0px 1px 2px rgba(60, 64, 67, 0.3), 0px 1px 3px 1px rgba(60, 64, 67, 0.15);\n",
              "      fill: #174EA6;\n",
              "    }\n",
              "\n",
              "    .colab-df-buttons div {\n",
              "      margin-bottom: 4px;\n",
              "    }\n",
              "\n",
              "    [theme=dark] .colab-df-convert {\n",
              "      background-color: #3B4455;\n",
              "      fill: #D2E3FC;\n",
              "    }\n",
              "\n",
              "    [theme=dark] .colab-df-convert:hover {\n",
              "      background-color: #434B5C;\n",
              "      box-shadow: 0px 1px 3px 1px rgba(0, 0, 0, 0.15);\n",
              "      filter: drop-shadow(0px 1px 2px rgba(0, 0, 0, 0.3));\n",
              "      fill: #FFFFFF;\n",
              "    }\n",
              "  </style>\n",
              "\n",
              "    <script>\n",
              "      const buttonEl =\n",
              "        document.querySelector('#df-7d719a03-7bad-4567-bbbe-6ab63a7ba032 button.colab-df-convert');\n",
              "      buttonEl.style.display =\n",
              "        google.colab.kernel.accessAllowed ? 'block' : 'none';\n",
              "\n",
              "      async function convertToInteractive(key) {\n",
              "        const element = document.querySelector('#df-7d719a03-7bad-4567-bbbe-6ab63a7ba032');\n",
              "        const dataTable =\n",
              "          await google.colab.kernel.invokeFunction('convertToInteractive',\n",
              "                                                    [key], {});\n",
              "        if (!dataTable) return;\n",
              "\n",
              "        const docLinkHtml = 'Like what you see? Visit the ' +\n",
              "          '<a target=\"_blank\" href=https://colab.research.google.com/notebooks/data_table.ipynb>data table notebook</a>'\n",
              "          + ' to learn more about interactive tables.';\n",
              "        element.innerHTML = '';\n",
              "        dataTable['output_type'] = 'display_data';\n",
              "        await google.colab.output.renderOutput(dataTable, element);\n",
              "        const docLink = document.createElement('div');\n",
              "        docLink.innerHTML = docLinkHtml;\n",
              "        element.appendChild(docLink);\n",
              "      }\n",
              "    </script>\n",
              "  </div>\n",
              "\n",
              "\n",
              "<div id=\"df-e30fea6f-417d-4007-ba1a-bdea92c4d1af\">\n",
              "  <button class=\"colab-df-quickchart\" onclick=\"quickchart('df-e30fea6f-417d-4007-ba1a-bdea92c4d1af')\"\n",
              "            title=\"Suggest charts\"\n",
              "            style=\"display:none;\">\n",
              "\n",
              "<svg xmlns=\"http://www.w3.org/2000/svg\" height=\"24px\"viewBox=\"0 0 24 24\"\n",
              "     width=\"24px\">\n",
              "    <g>\n",
              "        <path d=\"M19 3H5c-1.1 0-2 .9-2 2v14c0 1.1.9 2 2 2h14c1.1 0 2-.9 2-2V5c0-1.1-.9-2-2-2zM9 17H7v-7h2v7zm4 0h-2V7h2v10zm4 0h-2v-4h2v4z\"/>\n",
              "    </g>\n",
              "</svg>\n",
              "  </button>\n",
              "\n",
              "<style>\n",
              "  .colab-df-quickchart {\n",
              "      --bg-color: #E8F0FE;\n",
              "      --fill-color: #1967D2;\n",
              "      --hover-bg-color: #E2EBFA;\n",
              "      --hover-fill-color: #174EA6;\n",
              "      --disabled-fill-color: #AAA;\n",
              "      --disabled-bg-color: #DDD;\n",
              "  }\n",
              "\n",
              "  [theme=dark] .colab-df-quickchart {\n",
              "      --bg-color: #3B4455;\n",
              "      --fill-color: #D2E3FC;\n",
              "      --hover-bg-color: #434B5C;\n",
              "      --hover-fill-color: #FFFFFF;\n",
              "      --disabled-bg-color: #3B4455;\n",
              "      --disabled-fill-color: #666;\n",
              "  }\n",
              "\n",
              "  .colab-df-quickchart {\n",
              "    background-color: var(--bg-color);\n",
              "    border: none;\n",
              "    border-radius: 50%;\n",
              "    cursor: pointer;\n",
              "    display: none;\n",
              "    fill: var(--fill-color);\n",
              "    height: 32px;\n",
              "    padding: 0;\n",
              "    width: 32px;\n",
              "  }\n",
              "\n",
              "  .colab-df-quickchart:hover {\n",
              "    background-color: var(--hover-bg-color);\n",
              "    box-shadow: 0 1px 2px rgba(60, 64, 67, 0.3), 0 1px 3px 1px rgba(60, 64, 67, 0.15);\n",
              "    fill: var(--button-hover-fill-color);\n",
              "  }\n",
              "\n",
              "  .colab-df-quickchart-complete:disabled,\n",
              "  .colab-df-quickchart-complete:disabled:hover {\n",
              "    background-color: var(--disabled-bg-color);\n",
              "    fill: var(--disabled-fill-color);\n",
              "    box-shadow: none;\n",
              "  }\n",
              "\n",
              "  .colab-df-spinner {\n",
              "    border: 2px solid var(--fill-color);\n",
              "    border-color: transparent;\n",
              "    border-bottom-color: var(--fill-color);\n",
              "    animation:\n",
              "      spin 1s steps(1) infinite;\n",
              "  }\n",
              "\n",
              "  @keyframes spin {\n",
              "    0% {\n",
              "      border-color: transparent;\n",
              "      border-bottom-color: var(--fill-color);\n",
              "      border-left-color: var(--fill-color);\n",
              "    }\n",
              "    20% {\n",
              "      border-color: transparent;\n",
              "      border-left-color: var(--fill-color);\n",
              "      border-top-color: var(--fill-color);\n",
              "    }\n",
              "    30% {\n",
              "      border-color: transparent;\n",
              "      border-left-color: var(--fill-color);\n",
              "      border-top-color: var(--fill-color);\n",
              "      border-right-color: var(--fill-color);\n",
              "    }\n",
              "    40% {\n",
              "      border-color: transparent;\n",
              "      border-right-color: var(--fill-color);\n",
              "      border-top-color: var(--fill-color);\n",
              "    }\n",
              "    60% {\n",
              "      border-color: transparent;\n",
              "      border-right-color: var(--fill-color);\n",
              "    }\n",
              "    80% {\n",
              "      border-color: transparent;\n",
              "      border-right-color: var(--fill-color);\n",
              "      border-bottom-color: var(--fill-color);\n",
              "    }\n",
              "    90% {\n",
              "      border-color: transparent;\n",
              "      border-bottom-color: var(--fill-color);\n",
              "    }\n",
              "  }\n",
              "</style>\n",
              "\n",
              "  <script>\n",
              "    async function quickchart(key) {\n",
              "      const quickchartButtonEl =\n",
              "        document.querySelector('#' + key + ' button');\n",
              "      quickchartButtonEl.disabled = true;  // To prevent multiple clicks.\n",
              "      quickchartButtonEl.classList.add('colab-df-spinner');\n",
              "      try {\n",
              "        const charts = await google.colab.kernel.invokeFunction(\n",
              "            'suggestCharts', [key], {});\n",
              "      } catch (error) {\n",
              "        console.error('Error during call to suggestCharts:', error);\n",
              "      }\n",
              "      quickchartButtonEl.classList.remove('colab-df-spinner');\n",
              "      quickchartButtonEl.classList.add('colab-df-quickchart-complete');\n",
              "    }\n",
              "    (() => {\n",
              "      let quickchartButtonEl =\n",
              "        document.querySelector('#df-e30fea6f-417d-4007-ba1a-bdea92c4d1af button');\n",
              "      quickchartButtonEl.style.display =\n",
              "        google.colab.kernel.accessAllowed ? 'block' : 'none';\n",
              "    })();\n",
              "  </script>\n",
              "</div>\n",
              "\n",
              "    </div>\n",
              "  </div>\n"
            ],
            "application/vnd.google.colaboratory.intrinsic+json": {
              "type": "dataframe",
              "variable_name": "higgs"
            }
          },
          "metadata": {},
          "execution_count": 12
        }
      ],
      "source": [
        "higgs = pd.read_csv('atlas-higgs-challenge-2014-v2.csv', na_values=-999.0)\n",
        "higgs.head(5)"
      ]
    },
    {
      "cell_type": "markdown",
      "metadata": {
        "id": "WnKqA2aN1WHA"
      },
      "source": [
        "Podemos observar que hay varios valores faltantes (`NaN`), calculamos el porcentaje de faltantes de cada variable."
      ]
    },
    {
      "cell_type": "code",
      "execution_count": 13,
      "metadata": {
        "id": "inej3FV_aNtt",
        "colab": {
          "base_uri": "https://localhost:8080/"
        },
        "outputId": "375cbca1-fe26-4b6e-bd92-5ae153f3ade3"
      },
      "outputs": [
        {
          "output_type": "stream",
          "name": "stdout",
          "text": [
            "EventId                         0.000000\n",
            "DER_mass_MMC                   15.228088\n",
            "DER_mass_transverse_met_lep     0.000000\n",
            "DER_mass_vis                    0.000000\n",
            "DER_pt_h                        0.000000\n",
            "DER_deltaeta_jet_jet           70.914942\n",
            "DER_mass_jet_jet               70.914942\n",
            "DER_prodeta_jet_jet            70.914942\n",
            "DER_deltar_tau_lep              0.000000\n",
            "DER_pt_tot                      0.000000\n",
            "DER_sum_pt                      0.000000\n",
            "DER_pt_ratio_lep_tau            0.000000\n",
            "DER_met_phi_centrality          0.000000\n",
            "DER_lep_eta_centrality         70.914942\n",
            "PRI_tau_pt                      0.000000\n",
            "PRI_tau_eta                     0.000000\n",
            "PRI_tau_phi                     0.000000\n",
            "PRI_lep_pt                      0.000000\n",
            "PRI_lep_eta                     0.000000\n",
            "PRI_lep_phi                     0.000000\n",
            "PRI_met                         0.000000\n",
            "PRI_met_phi                     0.000000\n",
            "PRI_met_sumet                   0.000000\n",
            "PRI_jet_num                     0.000000\n",
            "PRI_jet_leading_pt             40.009264\n",
            "PRI_jet_leading_eta            40.009264\n",
            "PRI_jet_leading_phi            40.009264\n",
            "PRI_jet_subleading_pt          70.914942\n",
            "PRI_jet_subleading_eta         70.914942\n",
            "PRI_jet_subleading_phi         70.914942\n",
            "PRI_jet_all_pt                  0.000000\n",
            "Weight                          0.000000\n",
            "Label                           0.000000\n",
            "KaggleSet                       0.000000\n",
            "KaggleWeight                    0.000000\n",
            "dtype: float64\n"
          ]
        }
      ],
      "source": [
        "faltantes = higgs.isnull().sum() * 100 / len(higgs)\n",
        "print(faltantes)"
      ]
    },
    {
      "cell_type": "markdown",
      "metadata": {
        "id": "SDVmR8LRXFwW"
      },
      "source": [
        "Para los atributos descartamos `EventId`, `Weight`, `KaggleSet`, `KaggleWeight` y `Label`."
      ]
    },
    {
      "cell_type": "code",
      "execution_count": 14,
      "metadata": {
        "id": "RRorbevOaJbf"
      },
      "outputs": [],
      "source": [
        "features = [\n",
        "            'DER_mass_MMC',\n",
        "            'DER_mass_transverse_met_lep',\n",
        "            'DER_mass_vis',\n",
        "            'DER_pt_h',\n",
        "            'DER_deltaeta_jet_jet',\n",
        "            'DER_mass_jet_jet',\n",
        "            'DER_prodeta_jet_jet',\n",
        "            'DER_deltar_tau_lep',\n",
        "            'DER_pt_tot',\n",
        "            'DER_sum_pt',\n",
        "            'DER_pt_ratio_lep_tau',\n",
        "            'DER_lep_eta_centrality',\n",
        "            'PRI_tau_pt',\n",
        "            'PRI_tau_eta',\n",
        "            'PRI_lep_pt',\n",
        "            'PRI_lep_eta',\n",
        "            'PRI_met',\n",
        "            'PRI_met_sumet',\n",
        "            'PRI_jet_num',\n",
        "            'PRI_jet_leading_pt',\n",
        "            'PRI_jet_leading_eta',\n",
        "            'PRI_jet_subleading_pt',\n",
        "            'PRI_jet_subleading_eta',\n",
        "            'PRI_jet_all_pt'\n",
        "            ]"
      ]
    },
    {
      "cell_type": "markdown",
      "metadata": {
        "id": "SiSw-oJU6eqM"
      },
      "source": [
        "Graficamos el número de instancias por cada clase (columna `Label`)."
      ]
    },
    {
      "cell_type": "code",
      "execution_count": 15,
      "metadata": {
        "id": "WSj0Qju3bUPr",
        "colab": {
          "base_uri": "https://localhost:8080/",
          "height": 430
        },
        "outputId": "303ae316-97a1-433d-8246-6735a3ea0909"
      },
      "outputs": [
        {
          "output_type": "display_data",
          "data": {
            "text/plain": [
              "<Figure size 640x480 with 1 Axes>"
            ],
            "image/png": "[encoded data removed]"
          },
          "metadata": {}
        }
      ],
      "source": [
        "higgs['Label'].hist()\n",
        "plt.show()"
      ]
    },
    {
      "cell_type": "markdown",
      "metadata": {
        "id": "S_QcYBum5sbr"
      },
      "source": [
        "Tomamos los valores de esos atributos como un arreglo de NumPy. Convertimos los valores b y s de la columna `Label` a 0 y 1 respectivamente."
      ]
    },
    {
      "cell_type": "code",
      "execution_count": 16,
      "metadata": {
        "id": "A4yffqh0ai2M"
      },
      "outputs": [],
      "source": [
        "X = higgs[features].to_numpy()\n",
        "y = np.zeros(len(higgs['Label'].to_numpy())).astype(int)\n",
        "y[higgs['Label'].to_numpy() == 's'] = 1"
      ]
    },
    {
      "cell_type": "markdown",
      "metadata": {
        "id": "ihZjG5CL5YMZ"
      },
      "source": [
        "Dividimos el conjunto completo en subconjuntos de entrenamiento y prueba."
      ]
    },
    {
      "cell_type": "code",
      "execution_count": 17,
      "metadata": {
        "id": "Hp9SF-lKnrbW"
      },
      "outputs": [],
      "source": [
        "Xe, X_prueba, ye, y_prueba = train_test_split(X,\n",
        "                                              y,\n",
        "                                              test_size=0.3,\n",
        "                                              random_state=42)"
      ]
    },
    {
      "cell_type": "markdown",
      "metadata": {
        "id": "mCXyz7v4VLe_"
      },
      "source": [
        "Realizamos validación cruzada para regresión logística con distintos valores de $\\alpha$ en la clase `SGDClassifier` de scikit-learn ($\\lambda$) usando el subconjunto de entrenamiento, calculando promedios y desviaciones estándar de las métrica para cada valor."
      ]
    },
    {
      "cell_type": "code",
      "execution_count": 18,
      "metadata": {
        "id": "6g3wHFAPVL6B"
      },
      "outputs": [],
      "source": [
        "n_rep = 5\n",
        "n_pliegues = 4\n",
        "\n",
        "alfas = np.logspace(-4.0, -2.0, num=10)\n",
        "aucroc = np.zeros((alfas.shape[0], n_rep * n_pliegues))\n",
        "aucpr = np.zeros((alfas.shape[0], n_rep * n_pliegues))\n",
        "acc = np.zeros((alfas.shape[0], n_rep * n_pliegues))\n",
        "prec = np.zeros((alfas.shape[0], n_rep * n_pliegues))\n",
        "recall = np.zeros((alfas.shape[0], n_rep * n_pliegues))\n",
        "f1 = np.zeros((alfas.shape[0], n_rep * n_pliegues))\n",
        "for j, k, l, X_ent, y_ent, X_val, y_val in vcrep_kpart(Xe, ye, r=n_rep, k=n_pliegues):\n",
        "  for i,a in enumerate(alfas):\n",
        "    imp = SimpleImputer(strategy='mean')\n",
        "    imp.fit(X_ent)\n",
        "    X_ent = imp.transform(X_ent)\n",
        "\n",
        "    sc = StandardScaler()\n",
        "    X_ent = sc.fit_transform(X_ent)\n",
        "\n",
        "    m = SGDClassifier(loss='log_loss', penalty='l1', alpha=a)\n",
        "    m = m.fit(X_ent, y_ent)\n",
        "\n",
        "    X_val = imp.transform(X_val)\n",
        "    X_val = sc.transform(X_val)\n",
        "    y_pred = m.predict(X_val)\n",
        "    probs = m.predict_proba(X_val)\n",
        "\n",
        "    rvps, rfps = roc(probs[:, 1], y_val)\n",
        "    aucroc[i, l] = compute_aucroc(rfps, rvps)\n",
        "\n",
        "    ps, rs, _ = precision_recall_curve(y_val, probs[:, 1])\n",
        "    aucpr[i, l] = auc(rs, ps)\n",
        "\n",
        "    acc[i, l] = accuracy_score(y_val, y_pred)\n",
        "    prec[i, l] = precision_score(y_val, y_pred)\n",
        "    recall[i, l] = recall_score(y_val, y_pred)\n",
        "    f1[i, l] = f1_score(y_val, y_pred)"
      ]
    },
    {
      "cell_type": "markdown",
      "metadata": {
        "id": "L33tBqAi4gTo"
      },
      "source": [
        "Dibujamos los diagramas de caja de los valores AUC de cada valor de $\\alpha$."
      ]
    },
    {
      "cell_type": "code",
      "execution_count": 19,
      "metadata": {
        "id": "JCV9g5OY75Z5",
        "colab": {
          "base_uri": "https://localhost:8080/",
          "height": 460
        },
        "outputId": "91d55a58-d499-4a46-f493-d2eb2a32b53f"
      },
      "outputs": [
        {
          "output_type": "display_data",
          "data": {
            "text/plain": [
              "<Figure size 640x480 with 1 Axes>"
            ],
            "image/png": "[encoded data removed]"
          },
          "metadata": {}
        }
      ],
      "source": [
        "plt.boxplot(aucroc.T, showmeans=True)\n",
        "plt.xticks(range(1, len(alfas) + 1), [f'{a:.4f}' for a in alfas], rotation=45)\n",
        "plt.show()"
      ]
    },
    {
      "cell_type": "markdown",
      "metadata": {
        "id": "-RRHCBBh4zso"
      },
      "source": [
        "Seleccionamos el valor de $\\alpha$ más apropiado de acuerdo al desempeño en la validación cruzada."
      ]
    },
    {
      "cell_type": "code",
      "execution_count": 20,
      "metadata": {
        "id": "SnRV0OE3j4RY",
        "colab": {
          "base_uri": "https://localhost:8080/"
        },
        "outputId": "ab1eaf7c-0692-4fbb-b031-81cd077c029c"
      },
      "outputs": [
        {
          "output_type": "stream",
          "name": "stdout",
          "text": [
            "El valor de alfa que seleccionamos es 0.0002\n"
          ]
        }
      ],
      "source": [
        "a = alfas[aucroc.mean(axis=1).argmax()]\n",
        "print(f'El valor de alfa que seleccionamos es {a:.4f}')"
      ]
    },
    {
      "cell_type": "markdown",
      "metadata": {
        "id": "7tpCAWpXkZVJ"
      },
      "source": [
        "Entrenamos un modelo con el valor seleccionado de $\\alpha$ usando todo el subconjunto de entrenamiento y obtenemos las métricas de desempeño en el conjunto de prueba."
      ]
    },
    {
      "cell_type": "code",
      "execution_count": 21,
      "metadata": {
        "id": "tlwYIqbMR7bU",
        "colab": {
          "base_uri": "https://localhost:8080/"
        },
        "outputId": "d15ead92-ebc6-4559-900b-c2e01484d6b9"
      },
      "outputs": [
        {
          "output_type": "stream",
          "name": "stdout",
          "text": [
            "AUCROC = 0.812\n",
            "AUCPR = 0.672\n",
            "ACC = 0.753\n",
            "Prec = 0.676\n",
            "Recall = 0.536\n",
            "f1 score = 0.598\n"
          ]
        }
      ],
      "source": [
        "imp = SimpleImputer(strategy='mean')\n",
        "imp.fit(Xe)\n",
        "Xe = imp.transform(Xe)\n",
        "\n",
        "sc = StandardScaler()\n",
        "Xe = sc.fit_transform(Xe)\n",
        "\n",
        "m = SGDClassifier(loss='log_loss',\n",
        "                  penalty='l1',\n",
        "                  alpha=a)\n",
        "m = m.fit(Xe, ye)\n",
        "\n",
        "X_prueba = imp.transform(X_prueba)\n",
        "X_prueba = sc.transform(X_prueba)\n",
        "y_pred = m.predict(X_prueba)\n",
        "probs = m.predict_proba(X_prueba)\n",
        "\n",
        "rvps, rfps = roc(probs[:, 1], y_prueba)\n",
        "ps, rs, _ = precision_recall_curve(y_prueba, probs[:, 1])\n",
        "print(f'AUCROC = {compute_aucroc(rfps, rvps):.3f}')\n",
        "print(f'AUCPR = {auc(rs, ps):.3f}')\n",
        "print(f'ACC = {accuracy_score(y_prueba, y_pred):.3f}')\n",
        "print(f'Prec = {precision_score(y_prueba, y_pred):.3f}')\n",
        "print(f'Recall = {recall_score(y_prueba, y_pred):.3f}')\n",
        "print(f'f1 score = {f1_score(y_prueba, y_pred):.3f}')"
      ]
    },
    {
      "cell_type": "markdown",
      "metadata": {
        "id": "XlJ9jW1qUcRf"
      },
      "source": [
        "Graficamos la curva ROC."
      ]
    },
    {
      "cell_type": "code",
      "execution_count": 22,
      "metadata": {
        "id": "uEU-GkqVUeO1",
        "colab": {
          "base_uri": "https://localhost:8080/",
          "height": 449
        },
        "outputId": "bbbe54c5-a1be-4c19-805e-a3fede574e83"
      },
      "outputs": [
        {
          "output_type": "display_data",
          "data": {
            "text/plain": [
              "<Figure size 640x480 with 1 Axes>"
            ],
            "image/png": "[encoded data removed]"
          },
          "metadata": {}
        }
      ],
      "source": [
        "plt.plot(rfps, rvps)\n",
        "plt.plot([0, 1], [0, 1], '--')\n",
        "plt.fill_between(rfps, rvps, 0, alpha=0.5, color = 'lightblue')\n",
        "plt.xlabel('Tasa de falsos positivos')\n",
        "plt.ylabel('Tasa de verdaderos positivos')\n",
        "plt.show()"
      ]
    },
    {
      "cell_type": "markdown",
      "metadata": {
        "id": "izgyrZ7K5Quz"
      },
      "source": [
        "Visualizamos el valor de los parámetros del modelo."
      ]
    },
    {
      "cell_type": "code",
      "execution_count": 23,
      "metadata": {
        "id": "UrZdAPrHMjLl",
        "colab": {
          "base_uri": "https://localhost:8080/",
          "height": 450
        },
        "outputId": "bc3cdabf-9b6b-4e5c-d235-525104505280"
      },
      "outputs": [
        {
          "output_type": "display_data",
          "data": {
            "text/plain": [
              "<Figure size 640x480 with 1 Axes>"
            ],
            "image/png": "[encoded data removed]"
          },
          "metadata": {}
        }
      ],
      "source": [
        "plt.bar(range(m.coef_[0].size), height=m.coef_[0])\n",
        "plt.xlabel(u'Característica')\n",
        "plt.xlabel(u'Valor del parámetro asociado')\n",
        "plt.show()"
      ]
    }
  ],
  "metadata": {
    "colab": {
      "provenance": [],
      "include_colab_link": true
    },
    "kernelspec": {
      "display_name": "Python 3",
      "name": "python3"
    }
  },
  "nbformat": 4,
  "nbformat_minor": 0
}